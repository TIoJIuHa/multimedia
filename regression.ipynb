{
  "nbformat": 4,
  "nbformat_minor": 0,
  "metadata": {
    "colab": {
      "provenance": [],
      "gpuType": "T4"
    },
    "kernelspec": {
      "name": "python3",
      "display_name": "Python 3"
    },
    "language_info": {
      "name": "python"
    },
    "accelerator": "GPU"
  },
  "cells": [
    {
      "cell_type": "markdown",
      "source": [
        "# Задача регрессии\n"
      ],
      "metadata": {
        "id": "bPLQQB5PbvPX"
      }
    },
    {
      "cell_type": "markdown",
      "source": [
        "## 1. Выбор начальных условий\n",
        "\n",
        "### Загрузка датасета\n",
        "\n",
        "Для задачи регрессии мною был выбран датасет с Kaggle для оценки возраста краба на основе физических характеристик.\n",
        "\n",
        "Ниже приведено подробное описание каждого столбца в наборе данных:\n",
        "\n",
        "- **Sex** - пол краба(мужской, женский и неопределенный)\n",
        "- **Length** - длина краба (в футах; 1 фут = 30,48 см)\n",
        "- **Diameter** - диаметр краба (в футах; 1 фут = 30,48 см)\n",
        "- **Height** - высота краба (в футах; 1 фут = 30,48 см)\n",
        "- **Weight** - вес краба (в унциях; 1 фунт = 16 унций)\n",
        "- **Shucked Weight** - вес без скорлупы (в унциях; 1 фунт = 16 унций)\n",
        "- **Viscera Weight** - это вес, который охватывает органы брюшной полости глубоко внутри тела (в унциях; 1 фунт = 16 унций)\n",
        "- **Shell Weight** - вес ракушки (в унциях; 1 фунт = 16 унций)\n",
        "- **Age** - возраст краба (в месяцах)"
      ],
      "metadata": {
        "id": "b15Hd86NrGgy"
      }
    },
    {
      "cell_type": "code",
      "source": [
        "!pip install opendatasets"
      ],
      "metadata": {
        "colab": {
          "base_uri": "https://localhost:8080/"
        },
        "id": "mu7Um4QBbzqr",
        "outputId": "1b90e777-cec0-4722-a5de-31ec5a419a73"
      },
      "execution_count": null,
      "outputs": [
        {
          "output_type": "stream",
          "name": "stdout",
          "text": [
            "Collecting opendatasets\n",
            "  Downloading opendatasets-0.1.22-py3-none-any.whl.metadata (9.2 kB)\n",
            "Requirement already satisfied: tqdm in /usr/local/lib/python3.10/dist-packages (from opendatasets) (4.67.1)\n",
            "Requirement already satisfied: kaggle in /usr/local/lib/python3.10/dist-packages (from opendatasets) (1.6.17)\n",
            "Requirement already satisfied: click in /usr/local/lib/python3.10/dist-packages (from opendatasets) (8.1.7)\n",
            "Requirement already satisfied: six>=1.10 in /usr/local/lib/python3.10/dist-packages (from kaggle->opendatasets) (1.17.0)\n",
            "Requirement already satisfied: certifi>=2023.7.22 in /usr/local/lib/python3.10/dist-packages (from kaggle->opendatasets) (2024.12.14)\n",
            "Requirement already satisfied: python-dateutil in /usr/local/lib/python3.10/dist-packages (from kaggle->opendatasets) (2.8.2)\n",
            "Requirement already satisfied: requests in /usr/local/lib/python3.10/dist-packages (from kaggle->opendatasets) (2.32.3)\n",
            "Requirement already satisfied: python-slugify in /usr/local/lib/python3.10/dist-packages (from kaggle->opendatasets) (8.0.4)\n",
            "Requirement already satisfied: urllib3 in /usr/local/lib/python3.10/dist-packages (from kaggle->opendatasets) (2.2.3)\n",
            "Requirement already satisfied: bleach in /usr/local/lib/python3.10/dist-packages (from kaggle->opendatasets) (6.2.0)\n",
            "Requirement already satisfied: webencodings in /usr/local/lib/python3.10/dist-packages (from bleach->kaggle->opendatasets) (0.5.1)\n",
            "Requirement already satisfied: text-unidecode>=1.3 in /usr/local/lib/python3.10/dist-packages (from python-slugify->kaggle->opendatasets) (1.3)\n",
            "Requirement already satisfied: charset-normalizer<4,>=2 in /usr/local/lib/python3.10/dist-packages (from requests->kaggle->opendatasets) (3.4.0)\n",
            "Requirement already satisfied: idna<4,>=2.5 in /usr/local/lib/python3.10/dist-packages (from requests->kaggle->opendatasets) (3.10)\n",
            "Downloading opendatasets-0.1.22-py3-none-any.whl (15 kB)\n",
            "Installing collected packages: opendatasets\n",
            "Successfully installed opendatasets-0.1.22\n"
          ]
        }
      ]
    },
    {
      "cell_type": "code",
      "source": [
        "import opendatasets as od\n",
        "\n",
        "od.download(\"https://www.kaggle.com/datasets/sidhus/crab-age-prediction/data\")"
      ],
      "metadata": {
        "colab": {
          "base_uri": "https://localhost:8080/"
        },
        "id": "t3CzcysnIO7F",
        "outputId": "608879b9-2941-442d-97af-e3a865b0066b"
      },
      "execution_count": null,
      "outputs": [
        {
          "output_type": "stream",
          "name": "stdout",
          "text": [
            "Please provide your Kaggle credentials to download this dataset. Learn more: http://bit.ly/kaggle-creds\n",
            "Your Kaggle username: cojihbilliko\n",
            "Your Kaggle Key: ··········\n",
            "Dataset URL: https://www.kaggle.com/datasets/sidhus/crab-age-prediction\n",
            "Downloading crab-age-prediction.zip to ./crab-age-prediction\n"
          ]
        },
        {
          "output_type": "stream",
          "name": "stderr",
          "text": [
            "100%|██████████| 81.2k/81.2k [00:00<00:00, 59.5MB/s]"
          ]
        },
        {
          "output_type": "stream",
          "name": "stdout",
          "text": [
            "\n"
          ]
        },
        {
          "output_type": "stream",
          "name": "stderr",
          "text": [
            "\n"
          ]
        }
      ]
    },
    {
      "cell_type": "code",
      "source": [
        "import pandas as pd\n",
        "\n",
        "raw_data = pd.read_csv('crab-age-prediction/CrabAgePrediction.csv')\n",
        "raw_data.head(10)"
      ],
      "metadata": {
        "colab": {
          "base_uri": "https://localhost:8080/",
          "height": 359
        },
        "id": "ElWEH1CiJa29",
        "outputId": "4ee32df8-ebdc-49d6-cfc6-d5a987bb5efa"
      },
      "execution_count": null,
      "outputs": [
        {
          "output_type": "execute_result",
          "data": {
            "text/plain": [
              "  Sex  Length  Diameter  Height     Weight  Shucked Weight  Viscera Weight  \\\n",
              "0   F  1.4375    1.1750  0.4125  24.635715       12.332033        5.584852   \n",
              "1   M  0.8875    0.6500  0.2125   5.400580        2.296310        1.374951   \n",
              "2   I  1.0375    0.7750  0.2500   7.952035        3.231843        1.601747   \n",
              "3   F  1.1750    0.8875  0.2500  13.480187        4.748541        2.282135   \n",
              "4   I  0.8875    0.6625  0.2125   6.903103        3.458639        1.488349   \n",
              "5   F  1.5500    1.1625  0.3500  28.661344       13.579410        6.761356   \n",
              "6   F  1.3000    1.0000  0.3250  17.704263        6.095142        5.854172   \n",
              "7   M  1.3250    1.0125  0.3750  23.572609        9.979024        5.301356   \n",
              "8   I  1.5875    1.2500  0.4125  42.212406       20.269893        9.766403   \n",
              "9   I  0.9125    0.6875  0.3375   6.803880        3.061746        1.261553   \n",
              "\n",
              "   Shell Weight  Age  \n",
              "0      6.747181    9  \n",
              "1      1.559222    6  \n",
              "2      2.764076    6  \n",
              "3      5.244657   10  \n",
              "4      1.700970    6  \n",
              "5      7.229122    8  \n",
              "6      4.819415   15  \n",
              "7      7.158249   10  \n",
              "8     10.248344   13  \n",
              "9      2.083688    7  "
            ],
            "text/html": [
              "\n",
              "  <div id=\"df-8116e436-4ef6-4dac-a5db-26b44bdfea18\" class=\"colab-df-container\">\n",
              "    <div>\n",
              "<style scoped>\n",
              "    .dataframe tbody tr th:only-of-type {\n",
              "        vertical-align: middle;\n",
              "    }\n",
              "\n",
              "    .dataframe tbody tr th {\n",
              "        vertical-align: top;\n",
              "    }\n",
              "\n",
              "    .dataframe thead th {\n",
              "        text-align: right;\n",
              "    }\n",
              "</style>\n",
              "<table border=\"1\" class=\"dataframe\">\n",
              "  <thead>\n",
              "    <tr style=\"text-align: right;\">\n",
              "      <th></th>\n",
              "      <th>Sex</th>\n",
              "      <th>Length</th>\n",
              "      <th>Diameter</th>\n",
              "      <th>Height</th>\n",
              "      <th>Weight</th>\n",
              "      <th>Shucked Weight</th>\n",
              "      <th>Viscera Weight</th>\n",
              "      <th>Shell Weight</th>\n",
              "      <th>Age</th>\n",
              "    </tr>\n",
              "  </thead>\n",
              "  <tbody>\n",
              "    <tr>\n",
              "      <th>0</th>\n",
              "      <td>F</td>\n",
              "      <td>1.4375</td>\n",
              "      <td>1.1750</td>\n",
              "      <td>0.4125</td>\n",
              "      <td>24.635715</td>\n",
              "      <td>12.332033</td>\n",
              "      <td>5.584852</td>\n",
              "      <td>6.747181</td>\n",
              "      <td>9</td>\n",
              "    </tr>\n",
              "    <tr>\n",
              "      <th>1</th>\n",
              "      <td>M</td>\n",
              "      <td>0.8875</td>\n",
              "      <td>0.6500</td>\n",
              "      <td>0.2125</td>\n",
              "      <td>5.400580</td>\n",
              "      <td>2.296310</td>\n",
              "      <td>1.374951</td>\n",
              "      <td>1.559222</td>\n",
              "      <td>6</td>\n",
              "    </tr>\n",
              "    <tr>\n",
              "      <th>2</th>\n",
              "      <td>I</td>\n",
              "      <td>1.0375</td>\n",
              "      <td>0.7750</td>\n",
              "      <td>0.2500</td>\n",
              "      <td>7.952035</td>\n",
              "      <td>3.231843</td>\n",
              "      <td>1.601747</td>\n",
              "      <td>2.764076</td>\n",
              "      <td>6</td>\n",
              "    </tr>\n",
              "    <tr>\n",
              "      <th>3</th>\n",
              "      <td>F</td>\n",
              "      <td>1.1750</td>\n",
              "      <td>0.8875</td>\n",
              "      <td>0.2500</td>\n",
              "      <td>13.480187</td>\n",
              "      <td>4.748541</td>\n",
              "      <td>2.282135</td>\n",
              "      <td>5.244657</td>\n",
              "      <td>10</td>\n",
              "    </tr>\n",
              "    <tr>\n",
              "      <th>4</th>\n",
              "      <td>I</td>\n",
              "      <td>0.8875</td>\n",
              "      <td>0.6625</td>\n",
              "      <td>0.2125</td>\n",
              "      <td>6.903103</td>\n",
              "      <td>3.458639</td>\n",
              "      <td>1.488349</td>\n",
              "      <td>1.700970</td>\n",
              "      <td>6</td>\n",
              "    </tr>\n",
              "    <tr>\n",
              "      <th>5</th>\n",
              "      <td>F</td>\n",
              "      <td>1.5500</td>\n",
              "      <td>1.1625</td>\n",
              "      <td>0.3500</td>\n",
              "      <td>28.661344</td>\n",
              "      <td>13.579410</td>\n",
              "      <td>6.761356</td>\n",
              "      <td>7.229122</td>\n",
              "      <td>8</td>\n",
              "    </tr>\n",
              "    <tr>\n",
              "      <th>6</th>\n",
              "      <td>F</td>\n",
              "      <td>1.3000</td>\n",
              "      <td>1.0000</td>\n",
              "      <td>0.3250</td>\n",
              "      <td>17.704263</td>\n",
              "      <td>6.095142</td>\n",
              "      <td>5.854172</td>\n",
              "      <td>4.819415</td>\n",
              "      <td>15</td>\n",
              "    </tr>\n",
              "    <tr>\n",
              "      <th>7</th>\n",
              "      <td>M</td>\n",
              "      <td>1.3250</td>\n",
              "      <td>1.0125</td>\n",
              "      <td>0.3750</td>\n",
              "      <td>23.572609</td>\n",
              "      <td>9.979024</td>\n",
              "      <td>5.301356</td>\n",
              "      <td>7.158249</td>\n",
              "      <td>10</td>\n",
              "    </tr>\n",
              "    <tr>\n",
              "      <th>8</th>\n",
              "      <td>I</td>\n",
              "      <td>1.5875</td>\n",
              "      <td>1.2500</td>\n",
              "      <td>0.4125</td>\n",
              "      <td>42.212406</td>\n",
              "      <td>20.269893</td>\n",
              "      <td>9.766403</td>\n",
              "      <td>10.248344</td>\n",
              "      <td>13</td>\n",
              "    </tr>\n",
              "    <tr>\n",
              "      <th>9</th>\n",
              "      <td>I</td>\n",
              "      <td>0.9125</td>\n",
              "      <td>0.6875</td>\n",
              "      <td>0.3375</td>\n",
              "      <td>6.803880</td>\n",
              "      <td>3.061746</td>\n",
              "      <td>1.261553</td>\n",
              "      <td>2.083688</td>\n",
              "      <td>7</td>\n",
              "    </tr>\n",
              "  </tbody>\n",
              "</table>\n",
              "</div>\n",
              "    <div class=\"colab-df-buttons\">\n",
              "\n",
              "  <div class=\"colab-df-container\">\n",
              "    <button class=\"colab-df-convert\" onclick=\"convertToInteractive('df-8116e436-4ef6-4dac-a5db-26b44bdfea18')\"\n",
              "            title=\"Convert this dataframe to an interactive table.\"\n",
              "            style=\"display:none;\">\n",
              "\n",
              "  <svg xmlns=\"http://www.w3.org/2000/svg\" height=\"24px\" viewBox=\"0 -960 960 960\">\n",
              "    <path d=\"M120-120v-720h720v720H120Zm60-500h600v-160H180v160Zm220 220h160v-160H400v160Zm0 220h160v-160H400v160ZM180-400h160v-160H180v160Zm440 0h160v-160H620v160ZM180-180h160v-160H180v160Zm440 0h160v-160H620v160Z\"/>\n",
              "  </svg>\n",
              "    </button>\n",
              "\n",
              "  <style>\n",
              "    .colab-df-container {\n",
              "      display:flex;\n",
              "      gap: 12px;\n",
              "    }\n",
              "\n",
              "    .colab-df-convert {\n",
              "      background-color: #E8F0FE;\n",
              "      border: none;\n",
              "      border-radius: 50%;\n",
              "      cursor: pointer;\n",
              "      display: none;\n",
              "      fill: #1967D2;\n",
              "      height: 32px;\n",
              "      padding: 0 0 0 0;\n",
              "      width: 32px;\n",
              "    }\n",
              "\n",
              "    .colab-df-convert:hover {\n",
              "      background-color: #E2EBFA;\n",
              "      box-shadow: 0px 1px 2px rgba(60, 64, 67, 0.3), 0px 1px 3px 1px rgba(60, 64, 67, 0.15);\n",
              "      fill: #174EA6;\n",
              "    }\n",
              "\n",
              "    .colab-df-buttons div {\n",
              "      margin-bottom: 4px;\n",
              "    }\n",
              "\n",
              "    [theme=dark] .colab-df-convert {\n",
              "      background-color: #3B4455;\n",
              "      fill: #D2E3FC;\n",
              "    }\n",
              "\n",
              "    [theme=dark] .colab-df-convert:hover {\n",
              "      background-color: #434B5C;\n",
              "      box-shadow: 0px 1px 3px 1px rgba(0, 0, 0, 0.15);\n",
              "      filter: drop-shadow(0px 1px 2px rgba(0, 0, 0, 0.3));\n",
              "      fill: #FFFFFF;\n",
              "    }\n",
              "  </style>\n",
              "\n",
              "    <script>\n",
              "      const buttonEl =\n",
              "        document.querySelector('#df-8116e436-4ef6-4dac-a5db-26b44bdfea18 button.colab-df-convert');\n",
              "      buttonEl.style.display =\n",
              "        google.colab.kernel.accessAllowed ? 'block' : 'none';\n",
              "\n",
              "      async function convertToInteractive(key) {\n",
              "        const element = document.querySelector('#df-8116e436-4ef6-4dac-a5db-26b44bdfea18');\n",
              "        const dataTable =\n",
              "          await google.colab.kernel.invokeFunction('convertToInteractive',\n",
              "                                                    [key], {});\n",
              "        if (!dataTable) return;\n",
              "\n",
              "        const docLinkHtml = 'Like what you see? Visit the ' +\n",
              "          '<a target=\"_blank\" href=https://colab.research.google.com/notebooks/data_table.ipynb>data table notebook</a>'\n",
              "          + ' to learn more about interactive tables.';\n",
              "        element.innerHTML = '';\n",
              "        dataTable['output_type'] = 'display_data';\n",
              "        await google.colab.output.renderOutput(dataTable, element);\n",
              "        const docLink = document.createElement('div');\n",
              "        docLink.innerHTML = docLinkHtml;\n",
              "        element.appendChild(docLink);\n",
              "      }\n",
              "    </script>\n",
              "  </div>\n",
              "\n",
              "\n",
              "<div id=\"df-9d613e30-e935-416b-b4ec-cebb925820f5\">\n",
              "  <button class=\"colab-df-quickchart\" onclick=\"quickchart('df-9d613e30-e935-416b-b4ec-cebb925820f5')\"\n",
              "            title=\"Suggest charts\"\n",
              "            style=\"display:none;\">\n",
              "\n",
              "<svg xmlns=\"http://www.w3.org/2000/svg\" height=\"24px\"viewBox=\"0 0 24 24\"\n",
              "     width=\"24px\">\n",
              "    <g>\n",
              "        <path d=\"M19 3H5c-1.1 0-2 .9-2 2v14c0 1.1.9 2 2 2h14c1.1 0 2-.9 2-2V5c0-1.1-.9-2-2-2zM9 17H7v-7h2v7zm4 0h-2V7h2v10zm4 0h-2v-4h2v4z\"/>\n",
              "    </g>\n",
              "</svg>\n",
              "  </button>\n",
              "\n",
              "<style>\n",
              "  .colab-df-quickchart {\n",
              "      --bg-color: #E8F0FE;\n",
              "      --fill-color: #1967D2;\n",
              "      --hover-bg-color: #E2EBFA;\n",
              "      --hover-fill-color: #174EA6;\n",
              "      --disabled-fill-color: #AAA;\n",
              "      --disabled-bg-color: #DDD;\n",
              "  }\n",
              "\n",
              "  [theme=dark] .colab-df-quickchart {\n",
              "      --bg-color: #3B4455;\n",
              "      --fill-color: #D2E3FC;\n",
              "      --hover-bg-color: #434B5C;\n",
              "      --hover-fill-color: #FFFFFF;\n",
              "      --disabled-bg-color: #3B4455;\n",
              "      --disabled-fill-color: #666;\n",
              "  }\n",
              "\n",
              "  .colab-df-quickchart {\n",
              "    background-color: var(--bg-color);\n",
              "    border: none;\n",
              "    border-radius: 50%;\n",
              "    cursor: pointer;\n",
              "    display: none;\n",
              "    fill: var(--fill-color);\n",
              "    height: 32px;\n",
              "    padding: 0;\n",
              "    width: 32px;\n",
              "  }\n",
              "\n",
              "  .colab-df-quickchart:hover {\n",
              "    background-color: var(--hover-bg-color);\n",
              "    box-shadow: 0 1px 2px rgba(60, 64, 67, 0.3), 0 1px 3px 1px rgba(60, 64, 67, 0.15);\n",
              "    fill: var(--button-hover-fill-color);\n",
              "  }\n",
              "\n",
              "  .colab-df-quickchart-complete:disabled,\n",
              "  .colab-df-quickchart-complete:disabled:hover {\n",
              "    background-color: var(--disabled-bg-color);\n",
              "    fill: var(--disabled-fill-color);\n",
              "    box-shadow: none;\n",
              "  }\n",
              "\n",
              "  .colab-df-spinner {\n",
              "    border: 2px solid var(--fill-color);\n",
              "    border-color: transparent;\n",
              "    border-bottom-color: var(--fill-color);\n",
              "    animation:\n",
              "      spin 1s steps(1) infinite;\n",
              "  }\n",
              "\n",
              "  @keyframes spin {\n",
              "    0% {\n",
              "      border-color: transparent;\n",
              "      border-bottom-color: var(--fill-color);\n",
              "      border-left-color: var(--fill-color);\n",
              "    }\n",
              "    20% {\n",
              "      border-color: transparent;\n",
              "      border-left-color: var(--fill-color);\n",
              "      border-top-color: var(--fill-color);\n",
              "    }\n",
              "    30% {\n",
              "      border-color: transparent;\n",
              "      border-left-color: var(--fill-color);\n",
              "      border-top-color: var(--fill-color);\n",
              "      border-right-color: var(--fill-color);\n",
              "    }\n",
              "    40% {\n",
              "      border-color: transparent;\n",
              "      border-right-color: var(--fill-color);\n",
              "      border-top-color: var(--fill-color);\n",
              "    }\n",
              "    60% {\n",
              "      border-color: transparent;\n",
              "      border-right-color: var(--fill-color);\n",
              "    }\n",
              "    80% {\n",
              "      border-color: transparent;\n",
              "      border-right-color: var(--fill-color);\n",
              "      border-bottom-color: var(--fill-color);\n",
              "    }\n",
              "    90% {\n",
              "      border-color: transparent;\n",
              "      border-bottom-color: var(--fill-color);\n",
              "    }\n",
              "  }\n",
              "</style>\n",
              "\n",
              "  <script>\n",
              "    async function quickchart(key) {\n",
              "      const quickchartButtonEl =\n",
              "        document.querySelector('#' + key + ' button');\n",
              "      quickchartButtonEl.disabled = true;  // To prevent multiple clicks.\n",
              "      quickchartButtonEl.classList.add('colab-df-spinner');\n",
              "      try {\n",
              "        const charts = await google.colab.kernel.invokeFunction(\n",
              "            'suggestCharts', [key], {});\n",
              "      } catch (error) {\n",
              "        console.error('Error during call to suggestCharts:', error);\n",
              "      }\n",
              "      quickchartButtonEl.classList.remove('colab-df-spinner');\n",
              "      quickchartButtonEl.classList.add('colab-df-quickchart-complete');\n",
              "    }\n",
              "    (() => {\n",
              "      let quickchartButtonEl =\n",
              "        document.querySelector('#df-9d613e30-e935-416b-b4ec-cebb925820f5 button');\n",
              "      quickchartButtonEl.style.display =\n",
              "        google.colab.kernel.accessAllowed ? 'block' : 'none';\n",
              "    })();\n",
              "  </script>\n",
              "</div>\n",
              "    </div>\n",
              "  </div>\n"
            ],
            "application/vnd.google.colaboratory.intrinsic+json": {
              "type": "dataframe",
              "variable_name": "raw_data",
              "summary": "{\n  \"name\": \"raw_data\",\n  \"rows\": 3893,\n  \"fields\": [\n    {\n      \"column\": \"Sex\",\n      \"properties\": {\n        \"dtype\": \"category\",\n        \"num_unique_values\": 3,\n        \"samples\": [\n          \"F\",\n          \"M\",\n          \"I\"\n        ],\n        \"semantic_type\": \"\",\n        \"description\": \"\"\n      }\n    },\n    {\n      \"column\": \"Length\",\n      \"properties\": {\n        \"dtype\": \"number\",\n        \"std\": 0.3004306265291026,\n        \"min\": 0.1875,\n        \"max\": 2.0375,\n        \"num_unique_values\": 134,\n        \"samples\": [\n          0.425,\n          1.3875,\n          1.95\n        ],\n        \"semantic_type\": \"\",\n        \"description\": \"\"\n      }\n    },\n    {\n      \"column\": \"Diameter\",\n      \"properties\": {\n        \"dtype\": \"number\",\n        \"std\": 0.24823267263710916,\n        \"min\": 0.1375,\n        \"max\": 1.625,\n        \"num_unique_values\": 111,\n        \"samples\": [\n          0.2625,\n          0.5375,\n          0.6625\n        ],\n        \"semantic_type\": \"\",\n        \"description\": \"\"\n      }\n    },\n    {\n      \"column\": \"Height\",\n      \"properties\": {\n        \"dtype\": \"number\",\n        \"std\": 0.10497623681720551,\n        \"min\": 0.0,\n        \"max\": 2.825,\n        \"num_unique_values\": 51,\n        \"samples\": [\n          0.625,\n          0.0625,\n          0.0375\n        ],\n        \"semantic_type\": \"\",\n        \"description\": \"\"\n      }\n    },\n    {\n      \"column\": \"Weight\",\n      \"properties\": {\n        \"dtype\": \"number\",\n        \"std\": 13.891200699787808,\n        \"min\": 0.056699,\n        \"max\": 80.10151225,\n        \"num_unique_values\": 2343,\n        \"samples\": [\n          51.21337175,\n          5.8116475,\n          27.51318975\n        ],\n        \"semantic_type\": \"\",\n        \"description\": \"\"\n      }\n    },\n    {\n      \"column\": \"Shucked Weight\",\n      \"properties\": {\n        \"dtype\": \"number\",\n        \"std\": 6.275274673353859,\n        \"min\": 0.0283495,\n        \"max\": 42.184056,\n        \"num_unique_values\": 1482,\n        \"samples\": [\n          1.360776,\n          12.03436275,\n          1.530873\n        ],\n        \"semantic_type\": \"\",\n        \"description\": \"\"\n      }\n    },\n    {\n      \"column\": \"Viscera Weight\",\n      \"properties\": {\n        \"dtype\": \"number\",\n        \"std\": 3.1041330844028505,\n        \"min\": 0.01417475,\n        \"max\": 21.54562,\n        \"num_unique_values\": 867,\n        \"samples\": [\n          2.9199985,\n          10.999606,\n          1.68679525\n        ],\n        \"semantic_type\": \"\",\n        \"description\": \"\"\n      }\n    },\n    {\n      \"column\": \"Shell Weight\",\n      \"properties\": {\n        \"dtype\": \"number\",\n        \"std\": 3.943391661220588,\n        \"min\": 0.04252425,\n        \"max\": 28.4912475,\n        \"num_unique_values\": 907,\n        \"samples\": [\n          8.4765005,\n          0.8221355,\n          5.00368675\n        ],\n        \"semantic_type\": \"\",\n        \"description\": \"\"\n      }\n    },\n    {\n      \"column\": \"Age\",\n      \"properties\": {\n        \"dtype\": \"number\",\n        \"std\": 3,\n        \"min\": 1,\n        \"max\": 29,\n        \"num_unique_values\": 28,\n        \"samples\": [\n          5,\n          29,\n          12\n        ],\n        \"semantic_type\": \"\",\n        \"description\": \"\"\n      }\n    }\n  ]\n}"
            }
          },
          "metadata": {},
          "execution_count": 3
        }
      ]
    },
    {
      "cell_type": "markdown",
      "source": [
        "### Метрики\n",
        "\n",
        "В качестве метрик в задаче регрессии использовались MSE и r2-score:\n",
        "- MSE(среднеквадратичная ошибка) из-за возведения в квадрат сильнее штрафует ошибки. Подходит, если большие отклонения критически важны.\n",
        "- r2-score(коэффициент детерминации) удобен для оценки общей точности модели."
      ],
      "metadata": {
        "id": "la1cn_8bsgI-"
      }
    },
    {
      "cell_type": "code",
      "source": [
        "from sklearn.model_selection import train_test_split\n",
        "from sklearn.neighbors import KNeighborsRegressor\n",
        "from sklearn.metrics import mean_squared_error, r2_score\n",
        "from sklearn.preprocessing import MinMaxScaler\n",
        "import numpy as np\n",
        "import pandas as pd"
      ],
      "metadata": {
        "id": "l-a_IsyMJ6tN"
      },
      "execution_count": null,
      "outputs": []
    },
    {
      "cell_type": "code",
      "source": [
        "def print_evaluation(y_test, y_pred):\n",
        "    print(\"MSE error:\", mean_squared_error(y_test, y_pred))\n",
        "    print(\"R^2 score:\", r2_score(y_test, y_pred))"
      ],
      "metadata": {
        "id": "n0Spnfa-KHvf"
      },
      "execution_count": null,
      "outputs": []
    },
    {
      "cell_type": "markdown",
      "source": [
        "## 2. Создание бейзлайна и оценка качества"
      ],
      "metadata": {
        "id": "CNe19lgasp8C"
      }
    },
    {
      "cell_type": "markdown",
      "source": [
        "Разделим исходные данные на обучающую и тестовую выборки"
      ],
      "metadata": {
        "id": "wyUONwCTr5jU"
      }
    },
    {
      "cell_type": "code",
      "source": [
        "raw_data['Sex'] = raw_data['Sex'].replace('I', 0)\n",
        "raw_data['Sex'] = raw_data['Sex'].replace('M', 1)\n",
        "raw_data['Sex'] = raw_data['Sex'].replace('F', 2)\n",
        "raw_x = raw_data.drop('Age', axis=1)\n",
        "raw_y = raw_data['Age']\n",
        "\n",
        "raw_x_train, raw_x_test, raw_y_train, raw_y_test = train_test_split(raw_x, raw_y, test_size=0.2, random_state=42)"
      ],
      "metadata": {
        "id": "TmbeQUzpuD9C",
        "colab": {
          "base_uri": "https://localhost:8080/"
        },
        "outputId": "14868e50-fe93-4b53-f9f8-8c4d522f2153"
      },
      "execution_count": null,
      "outputs": [
        {
          "output_type": "stream",
          "name": "stderr",
          "text": [
            "<ipython-input-6-40985c65c1cc>:3: FutureWarning: Downcasting behavior in `replace` is deprecated and will be removed in a future version. To retain the old behavior, explicitly call `result.infer_objects(copy=False)`. To opt-in to the future behavior, set `pd.set_option('future.no_silent_downcasting', True)`\n",
            "  raw_data['Sex'] = raw_data['Sex'].replace('F', 2)\n"
          ]
        }
      ]
    },
    {
      "cell_type": "markdown",
      "source": [
        "### Обучение моделей\n",
        "#### KNN"
      ],
      "metadata": {
        "id": "3qONjSchuNLo"
      }
    },
    {
      "cell_type": "code",
      "source": [
        "modelKNN = KNeighborsRegressor(n_neighbors=3)\n",
        "modelKNN.fit(raw_x_train,raw_y_train)\n",
        "\n",
        "raw_y_pred = modelKNN.predict(raw_x_test)\n",
        "print_evaluation(raw_y_test, raw_y_pred)"
      ],
      "metadata": {
        "colab": {
          "base_uri": "https://localhost:8080/"
        },
        "id": "MIVZ9vBbKM1C",
        "outputId": "8ebdcaa7-0de2-4482-dd3a-5b8166440e6f"
      },
      "execution_count": null,
      "outputs": [
        {
          "output_type": "stream",
          "name": "stdout",
          "text": [
            "MSE error: 4.958493795464271\n",
            "R^2 score: 0.4839986779650126\n"
          ]
        }
      ]
    },
    {
      "cell_type": "markdown",
      "source": [
        "#### Логистическая регрессия"
      ],
      "metadata": {
        "id": "zRRJkh8buje-"
      }
    },
    {
      "cell_type": "code",
      "source": [
        "from sklearn.linear_model import LogisticRegression, LinearRegression\n",
        "from sklearn.metrics import mean_squared_error"
      ],
      "metadata": {
        "id": "VQkLB5ZVRppf"
      },
      "execution_count": null,
      "outputs": []
    },
    {
      "cell_type": "code",
      "source": [
        "modelLogisticRegression = LogisticRegression(random_state=42, max_iter=100000)\n",
        "modelLogisticRegression.fit(raw_x_train,raw_y_train)\n",
        "\n",
        "raw_y_pred2 = modelLogisticRegression.predict(raw_x_test)\n",
        "print_evaluation(raw_y_test, raw_y_pred2)"
      ],
      "metadata": {
        "colab": {
          "base_uri": "https://localhost:8080/"
        },
        "id": "exAYmH-xRSis",
        "outputId": "6eac57c2-2e23-4020-fdd1-97e2b66f1a7a"
      },
      "execution_count": null,
      "outputs": [
        {
          "output_type": "stream",
          "name": "stdout",
          "text": [
            "MSE error: 5.735558408215661\n",
            "R^2 score: 0.40313412836063434\n"
          ]
        }
      ]
    },
    {
      "cell_type": "markdown",
      "source": [
        "#### Линейная регрессия"
      ],
      "metadata": {
        "id": "ZP2FX9a6un22"
      }
    },
    {
      "cell_type": "code",
      "source": [
        "modelLinearRegression = LinearRegression()\n",
        "modelLinearRegression.fit(raw_x_train,raw_y_train)\n",
        "\n",
        "raw_y_pred3 = modelLinearRegression.predict(raw_x_test)\n",
        "print_evaluation(raw_y_test, raw_y_pred3)"
      ],
      "metadata": {
        "colab": {
          "base_uri": "https://localhost:8080/"
        },
        "id": "7oFq1f_DRzLO",
        "outputId": "b254e0a4-f886-4b6c-8c88-0ad1f580c3d3"
      },
      "execution_count": null,
      "outputs": [
        {
          "output_type": "stream",
          "name": "stdout",
          "text": [
            "MSE error: 4.648710266528381\n",
            "R^2 score: 0.5162360300862965\n"
          ]
        }
      ]
    },
    {
      "cell_type": "markdown",
      "source": [
        "#### Решающее дерево"
      ],
      "metadata": {
        "id": "KYahP8yDutx_"
      }
    },
    {
      "cell_type": "code",
      "source": [
        "from sklearn.tree import DecisionTreeRegressor\n",
        "\n",
        "modelDecisionTree = DecisionTreeRegressor(random_state=42)\n",
        "modelDecisionTree.fit(raw_x_train, raw_y_train)\n",
        "\n",
        "raw_y_pred4 = modelDecisionTree.predict(raw_x_test)\n",
        "print_evaluation(raw_y_test, raw_y_pred4)"
      ],
      "metadata": {
        "colab": {
          "base_uri": "https://localhost:8080/"
        },
        "id": "QBVNfg54R6En",
        "outputId": "99a6e88a-c37a-47da-dbea-f1ffec32feb8"
      },
      "execution_count": null,
      "outputs": [
        {
          "output_type": "stream",
          "name": "stdout",
          "text": [
            "MSE error: 8.436456996148909\n",
            "R^2 score: 0.12206747797360984\n"
          ]
        }
      ]
    },
    {
      "cell_type": "markdown",
      "source": [
        "#### Случайный лес"
      ],
      "metadata": {
        "id": "fDEgsyz2u3xd"
      }
    },
    {
      "cell_type": "code",
      "source": [
        "from sklearn.ensemble import RandomForestRegressor\n",
        "\n",
        "modelRandomForest = RandomForestRegressor(n_estimators=100, random_state=42)\n",
        "modelRandomForest.fit(raw_x_train, raw_y_train)\n",
        "\n",
        "raw_y_pred5 = modelRandomForest.predict(raw_x_test)\n",
        "print_evaluation(raw_y_test, raw_y_pred5)"
      ],
      "metadata": {
        "colab": {
          "base_uri": "https://localhost:8080/"
        },
        "id": "vP4Y2VM9SFUt",
        "outputId": "f4d7354d-97b2-4d09-85a7-227267f635bf"
      },
      "execution_count": null,
      "outputs": [
        {
          "output_type": "stream",
          "name": "stdout",
          "text": [
            "MSE error: 4.445734146341463\n",
            "R^2 score: 0.5373585625887649\n"
          ]
        }
      ]
    },
    {
      "cell_type": "markdown",
      "source": [
        "#### Градиентный бустинг"
      ],
      "metadata": {
        "id": "jM9w-gdHu-gr"
      }
    },
    {
      "cell_type": "code",
      "source": [
        "from sklearn.ensemble import GradientBoostingRegressor\n",
        "\n",
        "modelGradientBoosting = GradientBoostingRegressor(n_estimators=100, learning_rate=0.1, random_state=42)\n",
        "modelGradientBoosting.fit(raw_x_train, raw_y_train)\n",
        "\n",
        "raw_y_pred6 = modelGradientBoosting.predict(raw_x_test)\n",
        "print_evaluation(raw_y_test, raw_y_pred6)"
      ],
      "metadata": {
        "colab": {
          "base_uri": "https://localhost:8080/"
        },
        "id": "JsqonrrGSbM_",
        "outputId": "0f336e30-e29e-464f-c8e8-74b54c9a8456"
      },
      "execution_count": null,
      "outputs": [
        {
          "output_type": "stream",
          "name": "stdout",
          "text": [
            "MSE error: 4.416814931047821\n",
            "R^2 score: 0.540368015446684\n"
          ]
        }
      ]
    },
    {
      "cell_type": "markdown",
      "source": [
        "## 3. Улучшение бейзлайна\n",
        "\n",
        "Выполним препроцессинг данных, визуализируем некоторую информацию и исследуем датасет"
      ],
      "metadata": {
        "id": "XxXjlLsKvEkH"
      }
    },
    {
      "cell_type": "code",
      "source": [
        "df = pd.read_csv('crab-age-prediction/CrabAgePrediction.csv')\n",
        "df['Sex'] = df['Sex'].replace('I', 0)\n",
        "df['Sex'] = df['Sex'].replace('M', 1)\n",
        "df['Sex'] = df['Sex'].replace('F', 2)\n",
        "\n",
        "df.head(10)"
      ],
      "metadata": {
        "colab": {
          "base_uri": "https://localhost:8080/",
          "height": 413
        },
        "id": "A0PM-JJ_SnHw",
        "outputId": "ee08a5bb-e5e5-4ac8-e15f-a8d085f46e85"
      },
      "execution_count": null,
      "outputs": [
        {
          "output_type": "stream",
          "name": "stderr",
          "text": [
            "<ipython-input-18-b8069059167d>:4: FutureWarning: Downcasting behavior in `replace` is deprecated and will be removed in a future version. To retain the old behavior, explicitly call `result.infer_objects(copy=False)`. To opt-in to the future behavior, set `pd.set_option('future.no_silent_downcasting', True)`\n",
            "  df['Sex'] = df['Sex'].replace('F', 2)\n"
          ]
        },
        {
          "output_type": "execute_result",
          "data": {
            "text/plain": [
              "   Sex  Length  Diameter  Height     Weight  Shucked Weight  Viscera Weight  \\\n",
              "0    2  1.4375    1.1750  0.4125  24.635715       12.332033        5.584852   \n",
              "1    1  0.8875    0.6500  0.2125   5.400580        2.296310        1.374951   \n",
              "2    0  1.0375    0.7750  0.2500   7.952035        3.231843        1.601747   \n",
              "3    2  1.1750    0.8875  0.2500  13.480187        4.748541        2.282135   \n",
              "4    0  0.8875    0.6625  0.2125   6.903103        3.458639        1.488349   \n",
              "5    2  1.5500    1.1625  0.3500  28.661344       13.579410        6.761356   \n",
              "6    2  1.3000    1.0000  0.3250  17.704263        6.095142        5.854172   \n",
              "7    1  1.3250    1.0125  0.3750  23.572609        9.979024        5.301356   \n",
              "8    0  1.5875    1.2500  0.4125  42.212406       20.269893        9.766403   \n",
              "9    0  0.9125    0.6875  0.3375   6.803880        3.061746        1.261553   \n",
              "\n",
              "   Shell Weight  Age  \n",
              "0      6.747181    9  \n",
              "1      1.559222    6  \n",
              "2      2.764076    6  \n",
              "3      5.244657   10  \n",
              "4      1.700970    6  \n",
              "5      7.229122    8  \n",
              "6      4.819415   15  \n",
              "7      7.158249   10  \n",
              "8     10.248344   13  \n",
              "9      2.083688    7  "
            ],
            "text/html": [
              "\n",
              "  <div id=\"df-0a02bc3e-ef37-441a-b6bb-ba26e769f365\" class=\"colab-df-container\">\n",
              "    <div>\n",
              "<style scoped>\n",
              "    .dataframe tbody tr th:only-of-type {\n",
              "        vertical-align: middle;\n",
              "    }\n",
              "\n",
              "    .dataframe tbody tr th {\n",
              "        vertical-align: top;\n",
              "    }\n",
              "\n",
              "    .dataframe thead th {\n",
              "        text-align: right;\n",
              "    }\n",
              "</style>\n",
              "<table border=\"1\" class=\"dataframe\">\n",
              "  <thead>\n",
              "    <tr style=\"text-align: right;\">\n",
              "      <th></th>\n",
              "      <th>Sex</th>\n",
              "      <th>Length</th>\n",
              "      <th>Diameter</th>\n",
              "      <th>Height</th>\n",
              "      <th>Weight</th>\n",
              "      <th>Shucked Weight</th>\n",
              "      <th>Viscera Weight</th>\n",
              "      <th>Shell Weight</th>\n",
              "      <th>Age</th>\n",
              "    </tr>\n",
              "  </thead>\n",
              "  <tbody>\n",
              "    <tr>\n",
              "      <th>0</th>\n",
              "      <td>2</td>\n",
              "      <td>1.4375</td>\n",
              "      <td>1.1750</td>\n",
              "      <td>0.4125</td>\n",
              "      <td>24.635715</td>\n",
              "      <td>12.332033</td>\n",
              "      <td>5.584852</td>\n",
              "      <td>6.747181</td>\n",
              "      <td>9</td>\n",
              "    </tr>\n",
              "    <tr>\n",
              "      <th>1</th>\n",
              "      <td>1</td>\n",
              "      <td>0.8875</td>\n",
              "      <td>0.6500</td>\n",
              "      <td>0.2125</td>\n",
              "      <td>5.400580</td>\n",
              "      <td>2.296310</td>\n",
              "      <td>1.374951</td>\n",
              "      <td>1.559222</td>\n",
              "      <td>6</td>\n",
              "    </tr>\n",
              "    <tr>\n",
              "      <th>2</th>\n",
              "      <td>0</td>\n",
              "      <td>1.0375</td>\n",
              "      <td>0.7750</td>\n",
              "      <td>0.2500</td>\n",
              "      <td>7.952035</td>\n",
              "      <td>3.231843</td>\n",
              "      <td>1.601747</td>\n",
              "      <td>2.764076</td>\n",
              "      <td>6</td>\n",
              "    </tr>\n",
              "    <tr>\n",
              "      <th>3</th>\n",
              "      <td>2</td>\n",
              "      <td>1.1750</td>\n",
              "      <td>0.8875</td>\n",
              "      <td>0.2500</td>\n",
              "      <td>13.480187</td>\n",
              "      <td>4.748541</td>\n",
              "      <td>2.282135</td>\n",
              "      <td>5.244657</td>\n",
              "      <td>10</td>\n",
              "    </tr>\n",
              "    <tr>\n",
              "      <th>4</th>\n",
              "      <td>0</td>\n",
              "      <td>0.8875</td>\n",
              "      <td>0.6625</td>\n",
              "      <td>0.2125</td>\n",
              "      <td>6.903103</td>\n",
              "      <td>3.458639</td>\n",
              "      <td>1.488349</td>\n",
              "      <td>1.700970</td>\n",
              "      <td>6</td>\n",
              "    </tr>\n",
              "    <tr>\n",
              "      <th>5</th>\n",
              "      <td>2</td>\n",
              "      <td>1.5500</td>\n",
              "      <td>1.1625</td>\n",
              "      <td>0.3500</td>\n",
              "      <td>28.661344</td>\n",
              "      <td>13.579410</td>\n",
              "      <td>6.761356</td>\n",
              "      <td>7.229122</td>\n",
              "      <td>8</td>\n",
              "    </tr>\n",
              "    <tr>\n",
              "      <th>6</th>\n",
              "      <td>2</td>\n",
              "      <td>1.3000</td>\n",
              "      <td>1.0000</td>\n",
              "      <td>0.3250</td>\n",
              "      <td>17.704263</td>\n",
              "      <td>6.095142</td>\n",
              "      <td>5.854172</td>\n",
              "      <td>4.819415</td>\n",
              "      <td>15</td>\n",
              "    </tr>\n",
              "    <tr>\n",
              "      <th>7</th>\n",
              "      <td>1</td>\n",
              "      <td>1.3250</td>\n",
              "      <td>1.0125</td>\n",
              "      <td>0.3750</td>\n",
              "      <td>23.572609</td>\n",
              "      <td>9.979024</td>\n",
              "      <td>5.301356</td>\n",
              "      <td>7.158249</td>\n",
              "      <td>10</td>\n",
              "    </tr>\n",
              "    <tr>\n",
              "      <th>8</th>\n",
              "      <td>0</td>\n",
              "      <td>1.5875</td>\n",
              "      <td>1.2500</td>\n",
              "      <td>0.4125</td>\n",
              "      <td>42.212406</td>\n",
              "      <td>20.269893</td>\n",
              "      <td>9.766403</td>\n",
              "      <td>10.248344</td>\n",
              "      <td>13</td>\n",
              "    </tr>\n",
              "    <tr>\n",
              "      <th>9</th>\n",
              "      <td>0</td>\n",
              "      <td>0.9125</td>\n",
              "      <td>0.6875</td>\n",
              "      <td>0.3375</td>\n",
              "      <td>6.803880</td>\n",
              "      <td>3.061746</td>\n",
              "      <td>1.261553</td>\n",
              "      <td>2.083688</td>\n",
              "      <td>7</td>\n",
              "    </tr>\n",
              "  </tbody>\n",
              "</table>\n",
              "</div>\n",
              "    <div class=\"colab-df-buttons\">\n",
              "\n",
              "  <div class=\"colab-df-container\">\n",
              "    <button class=\"colab-df-convert\" onclick=\"convertToInteractive('df-0a02bc3e-ef37-441a-b6bb-ba26e769f365')\"\n",
              "            title=\"Convert this dataframe to an interactive table.\"\n",
              "            style=\"display:none;\">\n",
              "\n",
              "  <svg xmlns=\"http://www.w3.org/2000/svg\" height=\"24px\" viewBox=\"0 -960 960 960\">\n",
              "    <path d=\"M120-120v-720h720v720H120Zm60-500h600v-160H180v160Zm220 220h160v-160H400v160Zm0 220h160v-160H400v160ZM180-400h160v-160H180v160Zm440 0h160v-160H620v160ZM180-180h160v-160H180v160Zm440 0h160v-160H620v160Z\"/>\n",
              "  </svg>\n",
              "    </button>\n",
              "\n",
              "  <style>\n",
              "    .colab-df-container {\n",
              "      display:flex;\n",
              "      gap: 12px;\n",
              "    }\n",
              "\n",
              "    .colab-df-convert {\n",
              "      background-color: #E8F0FE;\n",
              "      border: none;\n",
              "      border-radius: 50%;\n",
              "      cursor: pointer;\n",
              "      display: none;\n",
              "      fill: #1967D2;\n",
              "      height: 32px;\n",
              "      padding: 0 0 0 0;\n",
              "      width: 32px;\n",
              "    }\n",
              "\n",
              "    .colab-df-convert:hover {\n",
              "      background-color: #E2EBFA;\n",
              "      box-shadow: 0px 1px 2px rgba(60, 64, 67, 0.3), 0px 1px 3px 1px rgba(60, 64, 67, 0.15);\n",
              "      fill: #174EA6;\n",
              "    }\n",
              "\n",
              "    .colab-df-buttons div {\n",
              "      margin-bottom: 4px;\n",
              "    }\n",
              "\n",
              "    [theme=dark] .colab-df-convert {\n",
              "      background-color: #3B4455;\n",
              "      fill: #D2E3FC;\n",
              "    }\n",
              "\n",
              "    [theme=dark] .colab-df-convert:hover {\n",
              "      background-color: #434B5C;\n",
              "      box-shadow: 0px 1px 3px 1px rgba(0, 0, 0, 0.15);\n",
              "      filter: drop-shadow(0px 1px 2px rgba(0, 0, 0, 0.3));\n",
              "      fill: #FFFFFF;\n",
              "    }\n",
              "  </style>\n",
              "\n",
              "    <script>\n",
              "      const buttonEl =\n",
              "        document.querySelector('#df-0a02bc3e-ef37-441a-b6bb-ba26e769f365 button.colab-df-convert');\n",
              "      buttonEl.style.display =\n",
              "        google.colab.kernel.accessAllowed ? 'block' : 'none';\n",
              "\n",
              "      async function convertToInteractive(key) {\n",
              "        const element = document.querySelector('#df-0a02bc3e-ef37-441a-b6bb-ba26e769f365');\n",
              "        const dataTable =\n",
              "          await google.colab.kernel.invokeFunction('convertToInteractive',\n",
              "                                                    [key], {});\n",
              "        if (!dataTable) return;\n",
              "\n",
              "        const docLinkHtml = 'Like what you see? Visit the ' +\n",
              "          '<a target=\"_blank\" href=https://colab.research.google.com/notebooks/data_table.ipynb>data table notebook</a>'\n",
              "          + ' to learn more about interactive tables.';\n",
              "        element.innerHTML = '';\n",
              "        dataTable['output_type'] = 'display_data';\n",
              "        await google.colab.output.renderOutput(dataTable, element);\n",
              "        const docLink = document.createElement('div');\n",
              "        docLink.innerHTML = docLinkHtml;\n",
              "        element.appendChild(docLink);\n",
              "      }\n",
              "    </script>\n",
              "  </div>\n",
              "\n",
              "\n",
              "<div id=\"df-51aba1ab-b97d-4032-9243-2f65d0ae1d8f\">\n",
              "  <button class=\"colab-df-quickchart\" onclick=\"quickchart('df-51aba1ab-b97d-4032-9243-2f65d0ae1d8f')\"\n",
              "            title=\"Suggest charts\"\n",
              "            style=\"display:none;\">\n",
              "\n",
              "<svg xmlns=\"http://www.w3.org/2000/svg\" height=\"24px\"viewBox=\"0 0 24 24\"\n",
              "     width=\"24px\">\n",
              "    <g>\n",
              "        <path d=\"M19 3H5c-1.1 0-2 .9-2 2v14c0 1.1.9 2 2 2h14c1.1 0 2-.9 2-2V5c0-1.1-.9-2-2-2zM9 17H7v-7h2v7zm4 0h-2V7h2v10zm4 0h-2v-4h2v4z\"/>\n",
              "    </g>\n",
              "</svg>\n",
              "  </button>\n",
              "\n",
              "<style>\n",
              "  .colab-df-quickchart {\n",
              "      --bg-color: #E8F0FE;\n",
              "      --fill-color: #1967D2;\n",
              "      --hover-bg-color: #E2EBFA;\n",
              "      --hover-fill-color: #174EA6;\n",
              "      --disabled-fill-color: #AAA;\n",
              "      --disabled-bg-color: #DDD;\n",
              "  }\n",
              "\n",
              "  [theme=dark] .colab-df-quickchart {\n",
              "      --bg-color: #3B4455;\n",
              "      --fill-color: #D2E3FC;\n",
              "      --hover-bg-color: #434B5C;\n",
              "      --hover-fill-color: #FFFFFF;\n",
              "      --disabled-bg-color: #3B4455;\n",
              "      --disabled-fill-color: #666;\n",
              "  }\n",
              "\n",
              "  .colab-df-quickchart {\n",
              "    background-color: var(--bg-color);\n",
              "    border: none;\n",
              "    border-radius: 50%;\n",
              "    cursor: pointer;\n",
              "    display: none;\n",
              "    fill: var(--fill-color);\n",
              "    height: 32px;\n",
              "    padding: 0;\n",
              "    width: 32px;\n",
              "  }\n",
              "\n",
              "  .colab-df-quickchart:hover {\n",
              "    background-color: var(--hover-bg-color);\n",
              "    box-shadow: 0 1px 2px rgba(60, 64, 67, 0.3), 0 1px 3px 1px rgba(60, 64, 67, 0.15);\n",
              "    fill: var(--button-hover-fill-color);\n",
              "  }\n",
              "\n",
              "  .colab-df-quickchart-complete:disabled,\n",
              "  .colab-df-quickchart-complete:disabled:hover {\n",
              "    background-color: var(--disabled-bg-color);\n",
              "    fill: var(--disabled-fill-color);\n",
              "    box-shadow: none;\n",
              "  }\n",
              "\n",
              "  .colab-df-spinner {\n",
              "    border: 2px solid var(--fill-color);\n",
              "    border-color: transparent;\n",
              "    border-bottom-color: var(--fill-color);\n",
              "    animation:\n",
              "      spin 1s steps(1) infinite;\n",
              "  }\n",
              "\n",
              "  @keyframes spin {\n",
              "    0% {\n",
              "      border-color: transparent;\n",
              "      border-bottom-color: var(--fill-color);\n",
              "      border-left-color: var(--fill-color);\n",
              "    }\n",
              "    20% {\n",
              "      border-color: transparent;\n",
              "      border-left-color: var(--fill-color);\n",
              "      border-top-color: var(--fill-color);\n",
              "    }\n",
              "    30% {\n",
              "      border-color: transparent;\n",
              "      border-left-color: var(--fill-color);\n",
              "      border-top-color: var(--fill-color);\n",
              "      border-right-color: var(--fill-color);\n",
              "    }\n",
              "    40% {\n",
              "      border-color: transparent;\n",
              "      border-right-color: var(--fill-color);\n",
              "      border-top-color: var(--fill-color);\n",
              "    }\n",
              "    60% {\n",
              "      border-color: transparent;\n",
              "      border-right-color: var(--fill-color);\n",
              "    }\n",
              "    80% {\n",
              "      border-color: transparent;\n",
              "      border-right-color: var(--fill-color);\n",
              "      border-bottom-color: var(--fill-color);\n",
              "    }\n",
              "    90% {\n",
              "      border-color: transparent;\n",
              "      border-bottom-color: var(--fill-color);\n",
              "    }\n",
              "  }\n",
              "</style>\n",
              "\n",
              "  <script>\n",
              "    async function quickchart(key) {\n",
              "      const quickchartButtonEl =\n",
              "        document.querySelector('#' + key + ' button');\n",
              "      quickchartButtonEl.disabled = true;  // To prevent multiple clicks.\n",
              "      quickchartButtonEl.classList.add('colab-df-spinner');\n",
              "      try {\n",
              "        const charts = await google.colab.kernel.invokeFunction(\n",
              "            'suggestCharts', [key], {});\n",
              "      } catch (error) {\n",
              "        console.error('Error during call to suggestCharts:', error);\n",
              "      }\n",
              "      quickchartButtonEl.classList.remove('colab-df-spinner');\n",
              "      quickchartButtonEl.classList.add('colab-df-quickchart-complete');\n",
              "    }\n",
              "    (() => {\n",
              "      let quickchartButtonEl =\n",
              "        document.querySelector('#df-51aba1ab-b97d-4032-9243-2f65d0ae1d8f button');\n",
              "      quickchartButtonEl.style.display =\n",
              "        google.colab.kernel.accessAllowed ? 'block' : 'none';\n",
              "    })();\n",
              "  </script>\n",
              "</div>\n",
              "    </div>\n",
              "  </div>\n"
            ],
            "application/vnd.google.colaboratory.intrinsic+json": {
              "type": "dataframe",
              "variable_name": "df",
              "summary": "{\n  \"name\": \"df\",\n  \"rows\": 3893,\n  \"fields\": [\n    {\n      \"column\": \"Sex\",\n      \"properties\": {\n        \"dtype\": \"number\",\n        \"std\": 0,\n        \"min\": 0,\n        \"max\": 2,\n        \"num_unique_values\": 3,\n        \"samples\": [\n          2,\n          1,\n          0\n        ],\n        \"semantic_type\": \"\",\n        \"description\": \"\"\n      }\n    },\n    {\n      \"column\": \"Length\",\n      \"properties\": {\n        \"dtype\": \"number\",\n        \"std\": 0.3004306265291026,\n        \"min\": 0.1875,\n        \"max\": 2.0375,\n        \"num_unique_values\": 134,\n        \"samples\": [\n          0.425,\n          1.3875,\n          1.95\n        ],\n        \"semantic_type\": \"\",\n        \"description\": \"\"\n      }\n    },\n    {\n      \"column\": \"Diameter\",\n      \"properties\": {\n        \"dtype\": \"number\",\n        \"std\": 0.24823267263710916,\n        \"min\": 0.1375,\n        \"max\": 1.625,\n        \"num_unique_values\": 111,\n        \"samples\": [\n          0.2625,\n          0.5375,\n          0.6625\n        ],\n        \"semantic_type\": \"\",\n        \"description\": \"\"\n      }\n    },\n    {\n      \"column\": \"Height\",\n      \"properties\": {\n        \"dtype\": \"number\",\n        \"std\": 0.10497623681720551,\n        \"min\": 0.0,\n        \"max\": 2.825,\n        \"num_unique_values\": 51,\n        \"samples\": [\n          0.625,\n          0.0625,\n          0.0375\n        ],\n        \"semantic_type\": \"\",\n        \"description\": \"\"\n      }\n    },\n    {\n      \"column\": \"Weight\",\n      \"properties\": {\n        \"dtype\": \"number\",\n        \"std\": 13.891200699787808,\n        \"min\": 0.056699,\n        \"max\": 80.10151225,\n        \"num_unique_values\": 2343,\n        \"samples\": [\n          51.21337175,\n          5.8116475,\n          27.51318975\n        ],\n        \"semantic_type\": \"\",\n        \"description\": \"\"\n      }\n    },\n    {\n      \"column\": \"Shucked Weight\",\n      \"properties\": {\n        \"dtype\": \"number\",\n        \"std\": 6.275274673353859,\n        \"min\": 0.0283495,\n        \"max\": 42.184056,\n        \"num_unique_values\": 1482,\n        \"samples\": [\n          1.360776,\n          12.03436275,\n          1.530873\n        ],\n        \"semantic_type\": \"\",\n        \"description\": \"\"\n      }\n    },\n    {\n      \"column\": \"Viscera Weight\",\n      \"properties\": {\n        \"dtype\": \"number\",\n        \"std\": 3.1041330844028505,\n        \"min\": 0.01417475,\n        \"max\": 21.54562,\n        \"num_unique_values\": 867,\n        \"samples\": [\n          2.9199985,\n          10.999606,\n          1.68679525\n        ],\n        \"semantic_type\": \"\",\n        \"description\": \"\"\n      }\n    },\n    {\n      \"column\": \"Shell Weight\",\n      \"properties\": {\n        \"dtype\": \"number\",\n        \"std\": 3.943391661220588,\n        \"min\": 0.04252425,\n        \"max\": 28.4912475,\n        \"num_unique_values\": 907,\n        \"samples\": [\n          8.4765005,\n          0.8221355,\n          5.00368675\n        ],\n        \"semantic_type\": \"\",\n        \"description\": \"\"\n      }\n    },\n    {\n      \"column\": \"Age\",\n      \"properties\": {\n        \"dtype\": \"number\",\n        \"std\": 3,\n        \"min\": 1,\n        \"max\": 29,\n        \"num_unique_values\": 28,\n        \"samples\": [\n          5,\n          29,\n          12\n        ],\n        \"semantic_type\": \"\",\n        \"description\": \"\"\n      }\n    }\n  ]\n}"
            }
          },
          "metadata": {},
          "execution_count": 18
        }
      ]
    },
    {
      "cell_type": "code",
      "source": [
        "df.info()"
      ],
      "metadata": {
        "colab": {
          "base_uri": "https://localhost:8080/"
        },
        "id": "9KcUULF2VYEg",
        "outputId": "9671620a-00ab-431a-8162-9ab6f5e6e3f0"
      },
      "execution_count": null,
      "outputs": [
        {
          "output_type": "stream",
          "name": "stdout",
          "text": [
            "<class 'pandas.core.frame.DataFrame'>\n",
            "RangeIndex: 3893 entries, 0 to 3892\n",
            "Data columns (total 9 columns):\n",
            " #   Column          Non-Null Count  Dtype  \n",
            "---  ------          --------------  -----  \n",
            " 0   Sex             3893 non-null   int64  \n",
            " 1   Length          3893 non-null   float64\n",
            " 2   Diameter        3893 non-null   float64\n",
            " 3   Height          3893 non-null   float64\n",
            " 4   Weight          3893 non-null   float64\n",
            " 5   Shucked Weight  3893 non-null   float64\n",
            " 6   Viscera Weight  3893 non-null   float64\n",
            " 7   Shell Weight    3893 non-null   float64\n",
            " 8   Age             3893 non-null   int64  \n",
            "dtypes: float64(7), int64(2)\n",
            "memory usage: 273.9 KB\n"
          ]
        }
      ]
    },
    {
      "cell_type": "code",
      "source": [
        "df.isnull().sum()"
      ],
      "metadata": {
        "colab": {
          "base_uri": "https://localhost:8080/",
          "height": 362
        },
        "id": "_bC_3ULjVkVt",
        "outputId": "3f1f711e-b39d-49a4-ffa2-6b01fb3dee4a"
      },
      "execution_count": null,
      "outputs": [
        {
          "output_type": "execute_result",
          "data": {
            "text/plain": [
              "Sex               0\n",
              "Length            0\n",
              "Diameter          0\n",
              "Height            0\n",
              "Weight            0\n",
              "Shucked Weight    0\n",
              "Viscera Weight    0\n",
              "Shell Weight      0\n",
              "Age               0\n",
              "dtype: int64"
            ],
            "text/html": [
              "<div>\n",
              "<style scoped>\n",
              "    .dataframe tbody tr th:only-of-type {\n",
              "        vertical-align: middle;\n",
              "    }\n",
              "\n",
              "    .dataframe tbody tr th {\n",
              "        vertical-align: top;\n",
              "    }\n",
              "\n",
              "    .dataframe thead th {\n",
              "        text-align: right;\n",
              "    }\n",
              "</style>\n",
              "<table border=\"1\" class=\"dataframe\">\n",
              "  <thead>\n",
              "    <tr style=\"text-align: right;\">\n",
              "      <th></th>\n",
              "      <th>0</th>\n",
              "    </tr>\n",
              "  </thead>\n",
              "  <tbody>\n",
              "    <tr>\n",
              "      <th>Sex</th>\n",
              "      <td>0</td>\n",
              "    </tr>\n",
              "    <tr>\n",
              "      <th>Length</th>\n",
              "      <td>0</td>\n",
              "    </tr>\n",
              "    <tr>\n",
              "      <th>Diameter</th>\n",
              "      <td>0</td>\n",
              "    </tr>\n",
              "    <tr>\n",
              "      <th>Height</th>\n",
              "      <td>0</td>\n",
              "    </tr>\n",
              "    <tr>\n",
              "      <th>Weight</th>\n",
              "      <td>0</td>\n",
              "    </tr>\n",
              "    <tr>\n",
              "      <th>Shucked Weight</th>\n",
              "      <td>0</td>\n",
              "    </tr>\n",
              "    <tr>\n",
              "      <th>Viscera Weight</th>\n",
              "      <td>0</td>\n",
              "    </tr>\n",
              "    <tr>\n",
              "      <th>Shell Weight</th>\n",
              "      <td>0</td>\n",
              "    </tr>\n",
              "    <tr>\n",
              "      <th>Age</th>\n",
              "      <td>0</td>\n",
              "    </tr>\n",
              "  </tbody>\n",
              "</table>\n",
              "</div><br><label><b>dtype:</b> int64</label>"
            ]
          },
          "metadata": {},
          "execution_count": 116
        }
      ]
    },
    {
      "cell_type": "code",
      "source": [
        "df['Age'].value_counts()"
      ],
      "metadata": {
        "colab": {
          "base_uri": "https://localhost:8080/",
          "height": 982
        },
        "id": "IVW-x0IpfqRo",
        "outputId": "03efc17f-89d0-42cd-9b32-3294dc719848"
      },
      "execution_count": null,
      "outputs": [
        {
          "output_type": "execute_result",
          "data": {
            "text/plain": [
              "Age\n",
              "9     640\n",
              "10    598\n",
              "8     520\n",
              "11    459\n",
              "7     357\n",
              "12    248\n",
              "6     241\n",
              "13    195\n",
              "14    122\n",
              "5     107\n",
              "15     96\n",
              "16     62\n",
              "17     54\n",
              "4      53\n",
              "18     38\n",
              "19     31\n",
              "20     23\n",
              "21     14\n",
              "3      13\n",
              "23      7\n",
              "22      6\n",
              "27      2\n",
              "24      2\n",
              "2       1\n",
              "1       1\n",
              "29      1\n",
              "25      1\n",
              "26      1\n",
              "Name: count, dtype: int64"
            ],
            "text/html": [
              "<div>\n",
              "<style scoped>\n",
              "    .dataframe tbody tr th:only-of-type {\n",
              "        vertical-align: middle;\n",
              "    }\n",
              "\n",
              "    .dataframe tbody tr th {\n",
              "        vertical-align: top;\n",
              "    }\n",
              "\n",
              "    .dataframe thead th {\n",
              "        text-align: right;\n",
              "    }\n",
              "</style>\n",
              "<table border=\"1\" class=\"dataframe\">\n",
              "  <thead>\n",
              "    <tr style=\"text-align: right;\">\n",
              "      <th></th>\n",
              "      <th>count</th>\n",
              "    </tr>\n",
              "    <tr>\n",
              "      <th>Age</th>\n",
              "      <th></th>\n",
              "    </tr>\n",
              "  </thead>\n",
              "  <tbody>\n",
              "    <tr>\n",
              "      <th>9</th>\n",
              "      <td>640</td>\n",
              "    </tr>\n",
              "    <tr>\n",
              "      <th>10</th>\n",
              "      <td>598</td>\n",
              "    </tr>\n",
              "    <tr>\n",
              "      <th>8</th>\n",
              "      <td>520</td>\n",
              "    </tr>\n",
              "    <tr>\n",
              "      <th>11</th>\n",
              "      <td>459</td>\n",
              "    </tr>\n",
              "    <tr>\n",
              "      <th>7</th>\n",
              "      <td>357</td>\n",
              "    </tr>\n",
              "    <tr>\n",
              "      <th>12</th>\n",
              "      <td>248</td>\n",
              "    </tr>\n",
              "    <tr>\n",
              "      <th>6</th>\n",
              "      <td>241</td>\n",
              "    </tr>\n",
              "    <tr>\n",
              "      <th>13</th>\n",
              "      <td>195</td>\n",
              "    </tr>\n",
              "    <tr>\n",
              "      <th>14</th>\n",
              "      <td>122</td>\n",
              "    </tr>\n",
              "    <tr>\n",
              "      <th>5</th>\n",
              "      <td>107</td>\n",
              "    </tr>\n",
              "    <tr>\n",
              "      <th>15</th>\n",
              "      <td>96</td>\n",
              "    </tr>\n",
              "    <tr>\n",
              "      <th>16</th>\n",
              "      <td>62</td>\n",
              "    </tr>\n",
              "    <tr>\n",
              "      <th>17</th>\n",
              "      <td>54</td>\n",
              "    </tr>\n",
              "    <tr>\n",
              "      <th>4</th>\n",
              "      <td>53</td>\n",
              "    </tr>\n",
              "    <tr>\n",
              "      <th>18</th>\n",
              "      <td>38</td>\n",
              "    </tr>\n",
              "    <tr>\n",
              "      <th>19</th>\n",
              "      <td>31</td>\n",
              "    </tr>\n",
              "    <tr>\n",
              "      <th>20</th>\n",
              "      <td>23</td>\n",
              "    </tr>\n",
              "    <tr>\n",
              "      <th>21</th>\n",
              "      <td>14</td>\n",
              "    </tr>\n",
              "    <tr>\n",
              "      <th>3</th>\n",
              "      <td>13</td>\n",
              "    </tr>\n",
              "    <tr>\n",
              "      <th>23</th>\n",
              "      <td>7</td>\n",
              "    </tr>\n",
              "    <tr>\n",
              "      <th>22</th>\n",
              "      <td>6</td>\n",
              "    </tr>\n",
              "    <tr>\n",
              "      <th>27</th>\n",
              "      <td>2</td>\n",
              "    </tr>\n",
              "    <tr>\n",
              "      <th>24</th>\n",
              "      <td>2</td>\n",
              "    </tr>\n",
              "    <tr>\n",
              "      <th>2</th>\n",
              "      <td>1</td>\n",
              "    </tr>\n",
              "    <tr>\n",
              "      <th>1</th>\n",
              "      <td>1</td>\n",
              "    </tr>\n",
              "    <tr>\n",
              "      <th>29</th>\n",
              "      <td>1</td>\n",
              "    </tr>\n",
              "    <tr>\n",
              "      <th>25</th>\n",
              "      <td>1</td>\n",
              "    </tr>\n",
              "    <tr>\n",
              "      <th>26</th>\n",
              "      <td>1</td>\n",
              "    </tr>\n",
              "  </tbody>\n",
              "</table>\n",
              "</div><br><label><b>dtype:</b> int64</label>"
            ]
          },
          "metadata": {},
          "execution_count": 117
        }
      ]
    },
    {
      "cell_type": "markdown",
      "source": [
        "Удалим из набора данных информацию о крабах, возраст которых представлен в единственном экземпляре"
      ],
      "metadata": {
        "id": "k_Jiu_gphzYG"
      }
    },
    {
      "cell_type": "code",
      "source": [
        "df_sorted = df.sort_values(by='Age')\n",
        "df_sorted"
      ],
      "metadata": {
        "colab": {
          "base_uri": "https://localhost:8080/",
          "height": 419
        },
        "id": "minVgpgffo2Q",
        "outputId": "1e7f0118-7bd4-4a8f-b0b3-14e215c8f430"
      },
      "execution_count": null,
      "outputs": [
        {
          "output_type": "execute_result",
          "data": {
            "text/plain": [
              "      Sex  Length  Diameter  Height     Weight  Shucked Weight  \\\n",
              "1330    0  0.1875    0.1375  0.0250   0.056699        0.028349   \n",
              "1134    0  0.3750    0.2500  0.0625   0.425243        0.127573   \n",
              "2778    0  0.4000    0.2750  0.0625   0.510291        0.184272   \n",
              "3443    0  0.4750    0.3500  0.0750   0.893009        0.354369   \n",
              "599     0  0.4875    0.3750  0.1125   1.063106        0.510291   \n",
              "...   ...     ...       ...     ...        ...             ...   \n",
              "2423    2  1.6125    1.2250  0.5375  39.859397       12.091062   \n",
              "89      1  1.5000    1.2375  0.4875  29.979596       10.886208   \n",
              "3069    1  1.6625    1.3375  0.5625  61.901133       21.361348   \n",
              "3522    2  1.3750    1.1625  0.4500  34.373769        9.199413   \n",
              "1729    2  1.7500    1.4625  0.4625  51.241721       20.000572   \n",
              "\n",
              "      Viscera Weight  Shell Weight  Age  \n",
              "1330        0.014175      0.042524    1  \n",
              "1134        0.113398      0.141747    2  \n",
              "2778        0.155922      0.141747    3  \n",
              "3443        0.141747      0.297670    3  \n",
              "599         0.170097      0.311845    3  \n",
              "...              ...           ...  ...  \n",
              "2423        6.477861     14.458245   25  \n",
              "89          5.386405     10.631063   26  \n",
              "3069       11.084654     25.089308   27  \n",
              "3522        5.811648     14.883487   27  \n",
              "1729        9.114364     13.466012   29  \n",
              "\n",
              "[3893 rows x 9 columns]"
            ],
            "text/html": [
              "\n",
              "  <div id=\"df-16d8d0cc-fd0a-465b-a7af-cf0e454f18a3\" class=\"colab-df-container\">\n",
              "    <div>\n",
              "<style scoped>\n",
              "    .dataframe tbody tr th:only-of-type {\n",
              "        vertical-align: middle;\n",
              "    }\n",
              "\n",
              "    .dataframe tbody tr th {\n",
              "        vertical-align: top;\n",
              "    }\n",
              "\n",
              "    .dataframe thead th {\n",
              "        text-align: right;\n",
              "    }\n",
              "</style>\n",
              "<table border=\"1\" class=\"dataframe\">\n",
              "  <thead>\n",
              "    <tr style=\"text-align: right;\">\n",
              "      <th></th>\n",
              "      <th>Sex</th>\n",
              "      <th>Length</th>\n",
              "      <th>Diameter</th>\n",
              "      <th>Height</th>\n",
              "      <th>Weight</th>\n",
              "      <th>Shucked Weight</th>\n",
              "      <th>Viscera Weight</th>\n",
              "      <th>Shell Weight</th>\n",
              "      <th>Age</th>\n",
              "    </tr>\n",
              "  </thead>\n",
              "  <tbody>\n",
              "    <tr>\n",
              "      <th>1330</th>\n",
              "      <td>0</td>\n",
              "      <td>0.1875</td>\n",
              "      <td>0.1375</td>\n",
              "      <td>0.0250</td>\n",
              "      <td>0.056699</td>\n",
              "      <td>0.028349</td>\n",
              "      <td>0.014175</td>\n",
              "      <td>0.042524</td>\n",
              "      <td>1</td>\n",
              "    </tr>\n",
              "    <tr>\n",
              "      <th>1134</th>\n",
              "      <td>0</td>\n",
              "      <td>0.3750</td>\n",
              "      <td>0.2500</td>\n",
              "      <td>0.0625</td>\n",
              "      <td>0.425243</td>\n",
              "      <td>0.127573</td>\n",
              "      <td>0.113398</td>\n",
              "      <td>0.141747</td>\n",
              "      <td>2</td>\n",
              "    </tr>\n",
              "    <tr>\n",
              "      <th>2778</th>\n",
              "      <td>0</td>\n",
              "      <td>0.4000</td>\n",
              "      <td>0.2750</td>\n",
              "      <td>0.0625</td>\n",
              "      <td>0.510291</td>\n",
              "      <td>0.184272</td>\n",
              "      <td>0.155922</td>\n",
              "      <td>0.141747</td>\n",
              "      <td>3</td>\n",
              "    </tr>\n",
              "    <tr>\n",
              "      <th>3443</th>\n",
              "      <td>0</td>\n",
              "      <td>0.4750</td>\n",
              "      <td>0.3500</td>\n",
              "      <td>0.0750</td>\n",
              "      <td>0.893009</td>\n",
              "      <td>0.354369</td>\n",
              "      <td>0.141747</td>\n",
              "      <td>0.297670</td>\n",
              "      <td>3</td>\n",
              "    </tr>\n",
              "    <tr>\n",
              "      <th>599</th>\n",
              "      <td>0</td>\n",
              "      <td>0.4875</td>\n",
              "      <td>0.3750</td>\n",
              "      <td>0.1125</td>\n",
              "      <td>1.063106</td>\n",
              "      <td>0.510291</td>\n",
              "      <td>0.170097</td>\n",
              "      <td>0.311845</td>\n",
              "      <td>3</td>\n",
              "    </tr>\n",
              "    <tr>\n",
              "      <th>...</th>\n",
              "      <td>...</td>\n",
              "      <td>...</td>\n",
              "      <td>...</td>\n",
              "      <td>...</td>\n",
              "      <td>...</td>\n",
              "      <td>...</td>\n",
              "      <td>...</td>\n",
              "      <td>...</td>\n",
              "      <td>...</td>\n",
              "    </tr>\n",
              "    <tr>\n",
              "      <th>2423</th>\n",
              "      <td>2</td>\n",
              "      <td>1.6125</td>\n",
              "      <td>1.2250</td>\n",
              "      <td>0.5375</td>\n",
              "      <td>39.859397</td>\n",
              "      <td>12.091062</td>\n",
              "      <td>6.477861</td>\n",
              "      <td>14.458245</td>\n",
              "      <td>25</td>\n",
              "    </tr>\n",
              "    <tr>\n",
              "      <th>89</th>\n",
              "      <td>1</td>\n",
              "      <td>1.5000</td>\n",
              "      <td>1.2375</td>\n",
              "      <td>0.4875</td>\n",
              "      <td>29.979596</td>\n",
              "      <td>10.886208</td>\n",
              "      <td>5.386405</td>\n",
              "      <td>10.631063</td>\n",
              "      <td>26</td>\n",
              "    </tr>\n",
              "    <tr>\n",
              "      <th>3069</th>\n",
              "      <td>1</td>\n",
              "      <td>1.6625</td>\n",
              "      <td>1.3375</td>\n",
              "      <td>0.5625</td>\n",
              "      <td>61.901133</td>\n",
              "      <td>21.361348</td>\n",
              "      <td>11.084654</td>\n",
              "      <td>25.089308</td>\n",
              "      <td>27</td>\n",
              "    </tr>\n",
              "    <tr>\n",
              "      <th>3522</th>\n",
              "      <td>2</td>\n",
              "      <td>1.3750</td>\n",
              "      <td>1.1625</td>\n",
              "      <td>0.4500</td>\n",
              "      <td>34.373769</td>\n",
              "      <td>9.199413</td>\n",
              "      <td>5.811648</td>\n",
              "      <td>14.883487</td>\n",
              "      <td>27</td>\n",
              "    </tr>\n",
              "    <tr>\n",
              "      <th>1729</th>\n",
              "      <td>2</td>\n",
              "      <td>1.7500</td>\n",
              "      <td>1.4625</td>\n",
              "      <td>0.4625</td>\n",
              "      <td>51.241721</td>\n",
              "      <td>20.000572</td>\n",
              "      <td>9.114364</td>\n",
              "      <td>13.466012</td>\n",
              "      <td>29</td>\n",
              "    </tr>\n",
              "  </tbody>\n",
              "</table>\n",
              "<p>3893 rows × 9 columns</p>\n",
              "</div>\n",
              "    <div class=\"colab-df-buttons\">\n",
              "\n",
              "  <div class=\"colab-df-container\">\n",
              "    <button class=\"colab-df-convert\" onclick=\"convertToInteractive('df-16d8d0cc-fd0a-465b-a7af-cf0e454f18a3')\"\n",
              "            title=\"Convert this dataframe to an interactive table.\"\n",
              "            style=\"display:none;\">\n",
              "\n",
              "  <svg xmlns=\"http://www.w3.org/2000/svg\" height=\"24px\" viewBox=\"0 -960 960 960\">\n",
              "    <path d=\"M120-120v-720h720v720H120Zm60-500h600v-160H180v160Zm220 220h160v-160H400v160Zm0 220h160v-160H400v160ZM180-400h160v-160H180v160Zm440 0h160v-160H620v160ZM180-180h160v-160H180v160Zm440 0h160v-160H620v160Z\"/>\n",
              "  </svg>\n",
              "    </button>\n",
              "\n",
              "  <style>\n",
              "    .colab-df-container {\n",
              "      display:flex;\n",
              "      gap: 12px;\n",
              "    }\n",
              "\n",
              "    .colab-df-convert {\n",
              "      background-color: #E8F0FE;\n",
              "      border: none;\n",
              "      border-radius: 50%;\n",
              "      cursor: pointer;\n",
              "      display: none;\n",
              "      fill: #1967D2;\n",
              "      height: 32px;\n",
              "      padding: 0 0 0 0;\n",
              "      width: 32px;\n",
              "    }\n",
              "\n",
              "    .colab-df-convert:hover {\n",
              "      background-color: #E2EBFA;\n",
              "      box-shadow: 0px 1px 2px rgba(60, 64, 67, 0.3), 0px 1px 3px 1px rgba(60, 64, 67, 0.15);\n",
              "      fill: #174EA6;\n",
              "    }\n",
              "\n",
              "    .colab-df-buttons div {\n",
              "      margin-bottom: 4px;\n",
              "    }\n",
              "\n",
              "    [theme=dark] .colab-df-convert {\n",
              "      background-color: #3B4455;\n",
              "      fill: #D2E3FC;\n",
              "    }\n",
              "\n",
              "    [theme=dark] .colab-df-convert:hover {\n",
              "      background-color: #434B5C;\n",
              "      box-shadow: 0px 1px 3px 1px rgba(0, 0, 0, 0.15);\n",
              "      filter: drop-shadow(0px 1px 2px rgba(0, 0, 0, 0.3));\n",
              "      fill: #FFFFFF;\n",
              "    }\n",
              "  </style>\n",
              "\n",
              "    <script>\n",
              "      const buttonEl =\n",
              "        document.querySelector('#df-16d8d0cc-fd0a-465b-a7af-cf0e454f18a3 button.colab-df-convert');\n",
              "      buttonEl.style.display =\n",
              "        google.colab.kernel.accessAllowed ? 'block' : 'none';\n",
              "\n",
              "      async function convertToInteractive(key) {\n",
              "        const element = document.querySelector('#df-16d8d0cc-fd0a-465b-a7af-cf0e454f18a3');\n",
              "        const dataTable =\n",
              "          await google.colab.kernel.invokeFunction('convertToInteractive',\n",
              "                                                    [key], {});\n",
              "        if (!dataTable) return;\n",
              "\n",
              "        const docLinkHtml = 'Like what you see? Visit the ' +\n",
              "          '<a target=\"_blank\" href=https://colab.research.google.com/notebooks/data_table.ipynb>data table notebook</a>'\n",
              "          + ' to learn more about interactive tables.';\n",
              "        element.innerHTML = '';\n",
              "        dataTable['output_type'] = 'display_data';\n",
              "        await google.colab.output.renderOutput(dataTable, element);\n",
              "        const docLink = document.createElement('div');\n",
              "        docLink.innerHTML = docLinkHtml;\n",
              "        element.appendChild(docLink);\n",
              "      }\n",
              "    </script>\n",
              "  </div>\n",
              "\n",
              "\n",
              "<div id=\"df-0c40a0ff-00fc-4eb7-b83b-5968e1d95b45\">\n",
              "  <button class=\"colab-df-quickchart\" onclick=\"quickchart('df-0c40a0ff-00fc-4eb7-b83b-5968e1d95b45')\"\n",
              "            title=\"Suggest charts\"\n",
              "            style=\"display:none;\">\n",
              "\n",
              "<svg xmlns=\"http://www.w3.org/2000/svg\" height=\"24px\"viewBox=\"0 0 24 24\"\n",
              "     width=\"24px\">\n",
              "    <g>\n",
              "        <path d=\"M19 3H5c-1.1 0-2 .9-2 2v14c0 1.1.9 2 2 2h14c1.1 0 2-.9 2-2V5c0-1.1-.9-2-2-2zM9 17H7v-7h2v7zm4 0h-2V7h2v10zm4 0h-2v-4h2v4z\"/>\n",
              "    </g>\n",
              "</svg>\n",
              "  </button>\n",
              "\n",
              "<style>\n",
              "  .colab-df-quickchart {\n",
              "      --bg-color: #E8F0FE;\n",
              "      --fill-color: #1967D2;\n",
              "      --hover-bg-color: #E2EBFA;\n",
              "      --hover-fill-color: #174EA6;\n",
              "      --disabled-fill-color: #AAA;\n",
              "      --disabled-bg-color: #DDD;\n",
              "  }\n",
              "\n",
              "  [theme=dark] .colab-df-quickchart {\n",
              "      --bg-color: #3B4455;\n",
              "      --fill-color: #D2E3FC;\n",
              "      --hover-bg-color: #434B5C;\n",
              "      --hover-fill-color: #FFFFFF;\n",
              "      --disabled-bg-color: #3B4455;\n",
              "      --disabled-fill-color: #666;\n",
              "  }\n",
              "\n",
              "  .colab-df-quickchart {\n",
              "    background-color: var(--bg-color);\n",
              "    border: none;\n",
              "    border-radius: 50%;\n",
              "    cursor: pointer;\n",
              "    display: none;\n",
              "    fill: var(--fill-color);\n",
              "    height: 32px;\n",
              "    padding: 0;\n",
              "    width: 32px;\n",
              "  }\n",
              "\n",
              "  .colab-df-quickchart:hover {\n",
              "    background-color: var(--hover-bg-color);\n",
              "    box-shadow: 0 1px 2px rgba(60, 64, 67, 0.3), 0 1px 3px 1px rgba(60, 64, 67, 0.15);\n",
              "    fill: var(--button-hover-fill-color);\n",
              "  }\n",
              "\n",
              "  .colab-df-quickchart-complete:disabled,\n",
              "  .colab-df-quickchart-complete:disabled:hover {\n",
              "    background-color: var(--disabled-bg-color);\n",
              "    fill: var(--disabled-fill-color);\n",
              "    box-shadow: none;\n",
              "  }\n",
              "\n",
              "  .colab-df-spinner {\n",
              "    border: 2px solid var(--fill-color);\n",
              "    border-color: transparent;\n",
              "    border-bottom-color: var(--fill-color);\n",
              "    animation:\n",
              "      spin 1s steps(1) infinite;\n",
              "  }\n",
              "\n",
              "  @keyframes spin {\n",
              "    0% {\n",
              "      border-color: transparent;\n",
              "      border-bottom-color: var(--fill-color);\n",
              "      border-left-color: var(--fill-color);\n",
              "    }\n",
              "    20% {\n",
              "      border-color: transparent;\n",
              "      border-left-color: var(--fill-color);\n",
              "      border-top-color: var(--fill-color);\n",
              "    }\n",
              "    30% {\n",
              "      border-color: transparent;\n",
              "      border-left-color: var(--fill-color);\n",
              "      border-top-color: var(--fill-color);\n",
              "      border-right-color: var(--fill-color);\n",
              "    }\n",
              "    40% {\n",
              "      border-color: transparent;\n",
              "      border-right-color: var(--fill-color);\n",
              "      border-top-color: var(--fill-color);\n",
              "    }\n",
              "    60% {\n",
              "      border-color: transparent;\n",
              "      border-right-color: var(--fill-color);\n",
              "    }\n",
              "    80% {\n",
              "      border-color: transparent;\n",
              "      border-right-color: var(--fill-color);\n",
              "      border-bottom-color: var(--fill-color);\n",
              "    }\n",
              "    90% {\n",
              "      border-color: transparent;\n",
              "      border-bottom-color: var(--fill-color);\n",
              "    }\n",
              "  }\n",
              "</style>\n",
              "\n",
              "  <script>\n",
              "    async function quickchart(key) {\n",
              "      const quickchartButtonEl =\n",
              "        document.querySelector('#' + key + ' button');\n",
              "      quickchartButtonEl.disabled = true;  // To prevent multiple clicks.\n",
              "      quickchartButtonEl.classList.add('colab-df-spinner');\n",
              "      try {\n",
              "        const charts = await google.colab.kernel.invokeFunction(\n",
              "            'suggestCharts', [key], {});\n",
              "      } catch (error) {\n",
              "        console.error('Error during call to suggestCharts:', error);\n",
              "      }\n",
              "      quickchartButtonEl.classList.remove('colab-df-spinner');\n",
              "      quickchartButtonEl.classList.add('colab-df-quickchart-complete');\n",
              "    }\n",
              "    (() => {\n",
              "      let quickchartButtonEl =\n",
              "        document.querySelector('#df-0c40a0ff-00fc-4eb7-b83b-5968e1d95b45 button');\n",
              "      quickchartButtonEl.style.display =\n",
              "        google.colab.kernel.accessAllowed ? 'block' : 'none';\n",
              "    })();\n",
              "  </script>\n",
              "</div>\n",
              "    </div>\n",
              "  </div>\n"
            ],
            "application/vnd.google.colaboratory.intrinsic+json": {
              "type": "dataframe",
              "variable_name": "df_sorted",
              "summary": "{\n  \"name\": \"df_sorted\",\n  \"rows\": 3893,\n  \"fields\": [\n    {\n      \"column\": \"Sex\",\n      \"properties\": {\n        \"dtype\": \"number\",\n        \"std\": 0,\n        \"min\": 0,\n        \"max\": 2,\n        \"num_unique_values\": 3,\n        \"samples\": [\n          0,\n          1,\n          2\n        ],\n        \"semantic_type\": \"\",\n        \"description\": \"\"\n      }\n    },\n    {\n      \"column\": \"Length\",\n      \"properties\": {\n        \"dtype\": \"number\",\n        \"std\": 0.30043062652910396,\n        \"min\": 0.1875,\n        \"max\": 2.0375,\n        \"num_unique_values\": 134,\n        \"samples\": [\n          1.875,\n          1.2125,\n          1.6375\n        ],\n        \"semantic_type\": \"\",\n        \"description\": \"\"\n      }\n    },\n    {\n      \"column\": \"Diameter\",\n      \"properties\": {\n        \"dtype\": \"number\",\n        \"std\": 0.24823267263711024,\n        \"min\": 0.1375,\n        \"max\": 1.625,\n        \"num_unique_values\": 111,\n        \"samples\": [\n          1.3,\n          0.2625,\n          0.375\n        ],\n        \"semantic_type\": \"\",\n        \"description\": \"\"\n      }\n    },\n    {\n      \"column\": \"Height\",\n      \"properties\": {\n        \"dtype\": \"number\",\n        \"std\": 0.10497623681720505,\n        \"min\": 0.0,\n        \"max\": 2.825,\n        \"num_unique_values\": 51,\n        \"samples\": [\n          0.5375,\n          0.4875,\n          1.2875\n        ],\n        \"semantic_type\": \"\",\n        \"description\": \"\"\n      }\n    },\n    {\n      \"column\": \"Weight\",\n      \"properties\": {\n        \"dtype\": \"number\",\n        \"std\": 13.891200699787818,\n        \"min\": 0.056699,\n        \"max\": 80.10151225,\n        \"num_unique_values\": 2343,\n        \"samples\": [\n          7.21494775,\n          12.417081,\n          34.20367175\n        ],\n        \"semantic_type\": \"\",\n        \"description\": \"\"\n      }\n    },\n    {\n      \"column\": \"Shucked Weight\",\n      \"properties\": {\n        \"dtype\": \"number\",\n        \"std\": 6.275274673353861,\n        \"min\": 0.0283495,\n        \"max\": 42.184056,\n        \"num_unique_values\": 1482,\n        \"samples\": [\n          1.2757275,\n          7.55514175,\n          7.2858215\n        ],\n        \"semantic_type\": \"\",\n        \"description\": \"\"\n      }\n    },\n    {\n      \"column\": \"Viscera Weight\",\n      \"properties\": {\n        \"dtype\": \"number\",\n        \"std\": 3.104133084402846,\n        \"min\": 0.01417475,\n        \"max\": 21.54562,\n        \"num_unique_values\": 867,\n        \"samples\": [\n          4.60679375,\n          7.654365,\n          1.43164975\n        ],\n        \"semantic_type\": \"\",\n        \"description\": \"\"\n      }\n    },\n    {\n      \"column\": \"Shell Weight\",\n      \"properties\": {\n        \"dtype\": \"number\",\n        \"std\": 3.94339166122058,\n        \"min\": 0.04252425,\n        \"max\": 28.4912475,\n        \"num_unique_values\": 907,\n        \"samples\": [\n          13.42348825,\n          6.53455975,\n          7.144074\n        ],\n        \"semantic_type\": \"\",\n        \"description\": \"\"\n      }\n    },\n    {\n      \"column\": \"Age\",\n      \"properties\": {\n        \"dtype\": \"number\",\n        \"std\": 3,\n        \"min\": 1,\n        \"max\": 29,\n        \"num_unique_values\": 28,\n        \"samples\": [\n          10,\n          26,\n          9\n        ],\n        \"semantic_type\": \"\",\n        \"description\": \"\"\n      }\n    }\n  ]\n}"
            }
          },
          "metadata": {},
          "execution_count": 19
        }
      ]
    },
    {
      "cell_type": "code",
      "source": [
        "df = df_sorted[2:-5]\n",
        "df"
      ],
      "metadata": {
        "colab": {
          "base_uri": "https://localhost:8080/",
          "height": 419
        },
        "id": "tL8FtCxchPxL",
        "outputId": "941bc844-fc1c-43e2-8e63-997e47622d72"
      },
      "execution_count": null,
      "outputs": [
        {
          "output_type": "execute_result",
          "data": {
            "text/plain": [
              "      Sex  Length  Diameter  Height     Weight  Shucked Weight  \\\n",
              "2778    0  0.4000    0.2750  0.0625   0.510291        0.184272   \n",
              "3443    0  0.4750    0.3500  0.0750   0.893009        0.354369   \n",
              "599     0  0.4875    0.3750  0.1125   1.063106        0.510291   \n",
              "2844    0  0.5125    0.3875  0.1125   1.403300        0.666213   \n",
              "753     0  0.2750    0.2250  0.0750   0.226796        0.070874   \n",
              "...   ...     ...       ...     ...        ...             ...   \n",
              "3088    1  1.5250    1.2250  0.3750  31.269499       12.048538   \n",
              "501     2  2.0000    1.5750  0.4875  71.610837       26.450084   \n",
              "2344    2  1.2250    0.9625  0.3750  22.296882        6.832230   \n",
              "3307    1  1.7250    1.3500  0.4625  45.912015       15.110283   \n",
              "373     2  1.7500    1.3500  0.5375  56.075311       18.923291   \n",
              "\n",
              "      Viscera Weight  Shell Weight  Age  \n",
              "2778        0.155922      0.141747    3  \n",
              "3443        0.141747      0.297670    3  \n",
              "599         0.170097      0.311845    3  \n",
              "2844        0.311845      0.396893    3  \n",
              "753         0.056699      0.085048    3  \n",
              "...              ...           ...  ...  \n",
              "3088        5.740774     10.205820   23  \n",
              "501        16.726205     17.576690   23  \n",
              "2344        3.968930      6.803880   23  \n",
              "3307       10.007373     15.733973   24  \n",
              "373         8.859219     20.128145   24  \n",
              "\n",
              "[3886 rows x 9 columns]"
            ],
            "text/html": [
              "\n",
              "  <div id=\"df-5e36bc06-1017-4dc2-b817-2c37602bdf5b\" class=\"colab-df-container\">\n",
              "    <div>\n",
              "<style scoped>\n",
              "    .dataframe tbody tr th:only-of-type {\n",
              "        vertical-align: middle;\n",
              "    }\n",
              "\n",
              "    .dataframe tbody tr th {\n",
              "        vertical-align: top;\n",
              "    }\n",
              "\n",
              "    .dataframe thead th {\n",
              "        text-align: right;\n",
              "    }\n",
              "</style>\n",
              "<table border=\"1\" class=\"dataframe\">\n",
              "  <thead>\n",
              "    <tr style=\"text-align: right;\">\n",
              "      <th></th>\n",
              "      <th>Sex</th>\n",
              "      <th>Length</th>\n",
              "      <th>Diameter</th>\n",
              "      <th>Height</th>\n",
              "      <th>Weight</th>\n",
              "      <th>Shucked Weight</th>\n",
              "      <th>Viscera Weight</th>\n",
              "      <th>Shell Weight</th>\n",
              "      <th>Age</th>\n",
              "    </tr>\n",
              "  </thead>\n",
              "  <tbody>\n",
              "    <tr>\n",
              "      <th>2778</th>\n",
              "      <td>0</td>\n",
              "      <td>0.4000</td>\n",
              "      <td>0.2750</td>\n",
              "      <td>0.0625</td>\n",
              "      <td>0.510291</td>\n",
              "      <td>0.184272</td>\n",
              "      <td>0.155922</td>\n",
              "      <td>0.141747</td>\n",
              "      <td>3</td>\n",
              "    </tr>\n",
              "    <tr>\n",
              "      <th>3443</th>\n",
              "      <td>0</td>\n",
              "      <td>0.4750</td>\n",
              "      <td>0.3500</td>\n",
              "      <td>0.0750</td>\n",
              "      <td>0.893009</td>\n",
              "      <td>0.354369</td>\n",
              "      <td>0.141747</td>\n",
              "      <td>0.297670</td>\n",
              "      <td>3</td>\n",
              "    </tr>\n",
              "    <tr>\n",
              "      <th>599</th>\n",
              "      <td>0</td>\n",
              "      <td>0.4875</td>\n",
              "      <td>0.3750</td>\n",
              "      <td>0.1125</td>\n",
              "      <td>1.063106</td>\n",
              "      <td>0.510291</td>\n",
              "      <td>0.170097</td>\n",
              "      <td>0.311845</td>\n",
              "      <td>3</td>\n",
              "    </tr>\n",
              "    <tr>\n",
              "      <th>2844</th>\n",
              "      <td>0</td>\n",
              "      <td>0.5125</td>\n",
              "      <td>0.3875</td>\n",
              "      <td>0.1125</td>\n",
              "      <td>1.403300</td>\n",
              "      <td>0.666213</td>\n",
              "      <td>0.311845</td>\n",
              "      <td>0.396893</td>\n",
              "      <td>3</td>\n",
              "    </tr>\n",
              "    <tr>\n",
              "      <th>753</th>\n",
              "      <td>0</td>\n",
              "      <td>0.2750</td>\n",
              "      <td>0.2250</td>\n",
              "      <td>0.0750</td>\n",
              "      <td>0.226796</td>\n",
              "      <td>0.070874</td>\n",
              "      <td>0.056699</td>\n",
              "      <td>0.085048</td>\n",
              "      <td>3</td>\n",
              "    </tr>\n",
              "    <tr>\n",
              "      <th>...</th>\n",
              "      <td>...</td>\n",
              "      <td>...</td>\n",
              "      <td>...</td>\n",
              "      <td>...</td>\n",
              "      <td>...</td>\n",
              "      <td>...</td>\n",
              "      <td>...</td>\n",
              "      <td>...</td>\n",
              "      <td>...</td>\n",
              "    </tr>\n",
              "    <tr>\n",
              "      <th>3088</th>\n",
              "      <td>1</td>\n",
              "      <td>1.5250</td>\n",
              "      <td>1.2250</td>\n",
              "      <td>0.3750</td>\n",
              "      <td>31.269499</td>\n",
              "      <td>12.048538</td>\n",
              "      <td>5.740774</td>\n",
              "      <td>10.205820</td>\n",
              "      <td>23</td>\n",
              "    </tr>\n",
              "    <tr>\n",
              "      <th>501</th>\n",
              "      <td>2</td>\n",
              "      <td>2.0000</td>\n",
              "      <td>1.5750</td>\n",
              "      <td>0.4875</td>\n",
              "      <td>71.610837</td>\n",
              "      <td>26.450084</td>\n",
              "      <td>16.726205</td>\n",
              "      <td>17.576690</td>\n",
              "      <td>23</td>\n",
              "    </tr>\n",
              "    <tr>\n",
              "      <th>2344</th>\n",
              "      <td>2</td>\n",
              "      <td>1.2250</td>\n",
              "      <td>0.9625</td>\n",
              "      <td>0.3750</td>\n",
              "      <td>22.296882</td>\n",
              "      <td>6.832230</td>\n",
              "      <td>3.968930</td>\n",
              "      <td>6.803880</td>\n",
              "      <td>23</td>\n",
              "    </tr>\n",
              "    <tr>\n",
              "      <th>3307</th>\n",
              "      <td>1</td>\n",
              "      <td>1.7250</td>\n",
              "      <td>1.3500</td>\n",
              "      <td>0.4625</td>\n",
              "      <td>45.912015</td>\n",
              "      <td>15.110283</td>\n",
              "      <td>10.007373</td>\n",
              "      <td>15.733973</td>\n",
              "      <td>24</td>\n",
              "    </tr>\n",
              "    <tr>\n",
              "      <th>373</th>\n",
              "      <td>2</td>\n",
              "      <td>1.7500</td>\n",
              "      <td>1.3500</td>\n",
              "      <td>0.5375</td>\n",
              "      <td>56.075311</td>\n",
              "      <td>18.923291</td>\n",
              "      <td>8.859219</td>\n",
              "      <td>20.128145</td>\n",
              "      <td>24</td>\n",
              "    </tr>\n",
              "  </tbody>\n",
              "</table>\n",
              "<p>3886 rows × 9 columns</p>\n",
              "</div>\n",
              "    <div class=\"colab-df-buttons\">\n",
              "\n",
              "  <div class=\"colab-df-container\">\n",
              "    <button class=\"colab-df-convert\" onclick=\"convertToInteractive('df-5e36bc06-1017-4dc2-b817-2c37602bdf5b')\"\n",
              "            title=\"Convert this dataframe to an interactive table.\"\n",
              "            style=\"display:none;\">\n",
              "\n",
              "  <svg xmlns=\"http://www.w3.org/2000/svg\" height=\"24px\" viewBox=\"0 -960 960 960\">\n",
              "    <path d=\"M120-120v-720h720v720H120Zm60-500h600v-160H180v160Zm220 220h160v-160H400v160Zm0 220h160v-160H400v160ZM180-400h160v-160H180v160Zm440 0h160v-160H620v160ZM180-180h160v-160H180v160Zm440 0h160v-160H620v160Z\"/>\n",
              "  </svg>\n",
              "    </button>\n",
              "\n",
              "  <style>\n",
              "    .colab-df-container {\n",
              "      display:flex;\n",
              "      gap: 12px;\n",
              "    }\n",
              "\n",
              "    .colab-df-convert {\n",
              "      background-color: #E8F0FE;\n",
              "      border: none;\n",
              "      border-radius: 50%;\n",
              "      cursor: pointer;\n",
              "      display: none;\n",
              "      fill: #1967D2;\n",
              "      height: 32px;\n",
              "      padding: 0 0 0 0;\n",
              "      width: 32px;\n",
              "    }\n",
              "\n",
              "    .colab-df-convert:hover {\n",
              "      background-color: #E2EBFA;\n",
              "      box-shadow: 0px 1px 2px rgba(60, 64, 67, 0.3), 0px 1px 3px 1px rgba(60, 64, 67, 0.15);\n",
              "      fill: #174EA6;\n",
              "    }\n",
              "\n",
              "    .colab-df-buttons div {\n",
              "      margin-bottom: 4px;\n",
              "    }\n",
              "\n",
              "    [theme=dark] .colab-df-convert {\n",
              "      background-color: #3B4455;\n",
              "      fill: #D2E3FC;\n",
              "    }\n",
              "\n",
              "    [theme=dark] .colab-df-convert:hover {\n",
              "      background-color: #434B5C;\n",
              "      box-shadow: 0px 1px 3px 1px rgba(0, 0, 0, 0.15);\n",
              "      filter: drop-shadow(0px 1px 2px rgba(0, 0, 0, 0.3));\n",
              "      fill: #FFFFFF;\n",
              "    }\n",
              "  </style>\n",
              "\n",
              "    <script>\n",
              "      const buttonEl =\n",
              "        document.querySelector('#df-5e36bc06-1017-4dc2-b817-2c37602bdf5b button.colab-df-convert');\n",
              "      buttonEl.style.display =\n",
              "        google.colab.kernel.accessAllowed ? 'block' : 'none';\n",
              "\n",
              "      async function convertToInteractive(key) {\n",
              "        const element = document.querySelector('#df-5e36bc06-1017-4dc2-b817-2c37602bdf5b');\n",
              "        const dataTable =\n",
              "          await google.colab.kernel.invokeFunction('convertToInteractive',\n",
              "                                                    [key], {});\n",
              "        if (!dataTable) return;\n",
              "\n",
              "        const docLinkHtml = 'Like what you see? Visit the ' +\n",
              "          '<a target=\"_blank\" href=https://colab.research.google.com/notebooks/data_table.ipynb>data table notebook</a>'\n",
              "          + ' to learn more about interactive tables.';\n",
              "        element.innerHTML = '';\n",
              "        dataTable['output_type'] = 'display_data';\n",
              "        await google.colab.output.renderOutput(dataTable, element);\n",
              "        const docLink = document.createElement('div');\n",
              "        docLink.innerHTML = docLinkHtml;\n",
              "        element.appendChild(docLink);\n",
              "      }\n",
              "    </script>\n",
              "  </div>\n",
              "\n",
              "\n",
              "<div id=\"df-66320f7f-8983-40c0-b753-44f8c9c0f695\">\n",
              "  <button class=\"colab-df-quickchart\" onclick=\"quickchart('df-66320f7f-8983-40c0-b753-44f8c9c0f695')\"\n",
              "            title=\"Suggest charts\"\n",
              "            style=\"display:none;\">\n",
              "\n",
              "<svg xmlns=\"http://www.w3.org/2000/svg\" height=\"24px\"viewBox=\"0 0 24 24\"\n",
              "     width=\"24px\">\n",
              "    <g>\n",
              "        <path d=\"M19 3H5c-1.1 0-2 .9-2 2v14c0 1.1.9 2 2 2h14c1.1 0 2-.9 2-2V5c0-1.1-.9-2-2-2zM9 17H7v-7h2v7zm4 0h-2V7h2v10zm4 0h-2v-4h2v4z\"/>\n",
              "    </g>\n",
              "</svg>\n",
              "  </button>\n",
              "\n",
              "<style>\n",
              "  .colab-df-quickchart {\n",
              "      --bg-color: #E8F0FE;\n",
              "      --fill-color: #1967D2;\n",
              "      --hover-bg-color: #E2EBFA;\n",
              "      --hover-fill-color: #174EA6;\n",
              "      --disabled-fill-color: #AAA;\n",
              "      --disabled-bg-color: #DDD;\n",
              "  }\n",
              "\n",
              "  [theme=dark] .colab-df-quickchart {\n",
              "      --bg-color: #3B4455;\n",
              "      --fill-color: #D2E3FC;\n",
              "      --hover-bg-color: #434B5C;\n",
              "      --hover-fill-color: #FFFFFF;\n",
              "      --disabled-bg-color: #3B4455;\n",
              "      --disabled-fill-color: #666;\n",
              "  }\n",
              "\n",
              "  .colab-df-quickchart {\n",
              "    background-color: var(--bg-color);\n",
              "    border: none;\n",
              "    border-radius: 50%;\n",
              "    cursor: pointer;\n",
              "    display: none;\n",
              "    fill: var(--fill-color);\n",
              "    height: 32px;\n",
              "    padding: 0;\n",
              "    width: 32px;\n",
              "  }\n",
              "\n",
              "  .colab-df-quickchart:hover {\n",
              "    background-color: var(--hover-bg-color);\n",
              "    box-shadow: 0 1px 2px rgba(60, 64, 67, 0.3), 0 1px 3px 1px rgba(60, 64, 67, 0.15);\n",
              "    fill: var(--button-hover-fill-color);\n",
              "  }\n",
              "\n",
              "  .colab-df-quickchart-complete:disabled,\n",
              "  .colab-df-quickchart-complete:disabled:hover {\n",
              "    background-color: var(--disabled-bg-color);\n",
              "    fill: var(--disabled-fill-color);\n",
              "    box-shadow: none;\n",
              "  }\n",
              "\n",
              "  .colab-df-spinner {\n",
              "    border: 2px solid var(--fill-color);\n",
              "    border-color: transparent;\n",
              "    border-bottom-color: var(--fill-color);\n",
              "    animation:\n",
              "      spin 1s steps(1) infinite;\n",
              "  }\n",
              "\n",
              "  @keyframes spin {\n",
              "    0% {\n",
              "      border-color: transparent;\n",
              "      border-bottom-color: var(--fill-color);\n",
              "      border-left-color: var(--fill-color);\n",
              "    }\n",
              "    20% {\n",
              "      border-color: transparent;\n",
              "      border-left-color: var(--fill-color);\n",
              "      border-top-color: var(--fill-color);\n",
              "    }\n",
              "    30% {\n",
              "      border-color: transparent;\n",
              "      border-left-color: var(--fill-color);\n",
              "      border-top-color: var(--fill-color);\n",
              "      border-right-color: var(--fill-color);\n",
              "    }\n",
              "    40% {\n",
              "      border-color: transparent;\n",
              "      border-right-color: var(--fill-color);\n",
              "      border-top-color: var(--fill-color);\n",
              "    }\n",
              "    60% {\n",
              "      border-color: transparent;\n",
              "      border-right-color: var(--fill-color);\n",
              "    }\n",
              "    80% {\n",
              "      border-color: transparent;\n",
              "      border-right-color: var(--fill-color);\n",
              "      border-bottom-color: var(--fill-color);\n",
              "    }\n",
              "    90% {\n",
              "      border-color: transparent;\n",
              "      border-bottom-color: var(--fill-color);\n",
              "    }\n",
              "  }\n",
              "</style>\n",
              "\n",
              "  <script>\n",
              "    async function quickchart(key) {\n",
              "      const quickchartButtonEl =\n",
              "        document.querySelector('#' + key + ' button');\n",
              "      quickchartButtonEl.disabled = true;  // To prevent multiple clicks.\n",
              "      quickchartButtonEl.classList.add('colab-df-spinner');\n",
              "      try {\n",
              "        const charts = await google.colab.kernel.invokeFunction(\n",
              "            'suggestCharts', [key], {});\n",
              "      } catch (error) {\n",
              "        console.error('Error during call to suggestCharts:', error);\n",
              "      }\n",
              "      quickchartButtonEl.classList.remove('colab-df-spinner');\n",
              "      quickchartButtonEl.classList.add('colab-df-quickchart-complete');\n",
              "    }\n",
              "    (() => {\n",
              "      let quickchartButtonEl =\n",
              "        document.querySelector('#df-66320f7f-8983-40c0-b753-44f8c9c0f695 button');\n",
              "      quickchartButtonEl.style.display =\n",
              "        google.colab.kernel.accessAllowed ? 'block' : 'none';\n",
              "    })();\n",
              "  </script>\n",
              "</div>\n",
              "    </div>\n",
              "  </div>\n"
            ],
            "application/vnd.google.colaboratory.intrinsic+json": {
              "type": "dataframe",
              "variable_name": "df",
              "summary": "{\n  \"name\": \"df\",\n  \"rows\": 3886,\n  \"fields\": [\n    {\n      \"column\": \"Sex\",\n      \"properties\": {\n        \"dtype\": \"number\",\n        \"std\": 0,\n        \"min\": 0,\n        \"max\": 2,\n        \"num_unique_values\": 3,\n        \"samples\": [\n          0,\n          1,\n          2\n        ],\n        \"semantic_type\": \"\",\n        \"description\": \"\"\n      }\n    },\n    {\n      \"column\": \"Length\",\n      \"properties\": {\n        \"dtype\": \"number\",\n        \"std\": 0.2995923487778473,\n        \"min\": 0.275,\n        \"max\": 2.0375,\n        \"num_unique_values\": 132,\n        \"samples\": [\n          1.0375,\n          1.3375,\n          0.6125\n        ],\n        \"semantic_type\": \"\",\n        \"description\": \"\"\n      }\n    },\n    {\n      \"column\": \"Diameter\",\n      \"properties\": {\n        \"dtype\": \"number\",\n        \"std\": 0.24753318969987623,\n        \"min\": 0.225,\n        \"max\": 1.625,\n        \"num_unique_values\": 110,\n        \"samples\": [\n          1.2,\n          0.45,\n          0.225\n        ],\n        \"semantic_type\": \"\",\n        \"description\": \"\"\n      }\n    },\n    {\n      \"column\": \"Height\",\n      \"properties\": {\n        \"dtype\": \"number\",\n        \"std\": 0.10468994943225297,\n        \"min\": 0.0,\n        \"max\": 2.825,\n        \"num_unique_values\": 50,\n        \"samples\": [\n          0.2375,\n          0.4875,\n          0.325\n        ],\n        \"semantic_type\": \"\",\n        \"description\": \"\"\n      }\n    },\n    {\n      \"column\": \"Weight\",\n      \"properties\": {\n        \"dtype\": \"number\",\n        \"std\": 13.868975469665537,\n        \"min\": 0.226796,\n        \"max\": 80.10151225,\n        \"num_unique_values\": 2339,\n        \"samples\": [\n          16.0741665,\n          27.71163625,\n          2.93417325\n        ],\n        \"semantic_type\": \"\",\n        \"description\": \"\"\n      }\n    },\n    {\n      \"column\": \"Shucked Weight\",\n      \"properties\": {\n        \"dtype\": \"number\",\n        \"std\": 6.272096892425719,\n        \"min\": 0.07087375,\n        \"max\": 42.184056,\n        \"num_unique_values\": 1480,\n        \"samples\": [\n          12.23280925,\n          5.6415505,\n          7.030676\n        ],\n        \"semantic_type\": \"\",\n        \"description\": \"\"\n      }\n    },\n    {\n      \"column\": \"Viscera Weight\",\n      \"properties\": {\n        \"dtype\": \"number\",\n        \"std\": 3.102576142839217,\n        \"min\": 0.056699,\n        \"max\": 21.54562,\n        \"num_unique_values\": 865,\n        \"samples\": [\n          2.42388225,\n          14.13222575,\n          5.54232725\n        ],\n        \"semantic_type\": \"\",\n        \"description\": \"\"\n      }\n    },\n    {\n      \"column\": \"Shell Weight\",\n      \"properties\": {\n        \"dtype\": \"number\",\n        \"std\": 3.9270637244222724,\n        \"min\": 0.0850485,\n        \"max\": 28.4912475,\n        \"num_unique_values\": 906,\n        \"samples\": [\n          13.42348825,\n          5.51397775,\n          4.57844425\n        ],\n        \"semantic_type\": \"\",\n        \"description\": \"\"\n      }\n    },\n    {\n      \"column\": \"Age\",\n      \"properties\": {\n        \"dtype\": \"number\",\n        \"std\": 3,\n        \"min\": 3,\n        \"max\": 24,\n        \"num_unique_values\": 22,\n        \"samples\": [\n          3,\n          16,\n          11\n        ],\n        \"semantic_type\": \"\",\n        \"description\": \"\"\n      }\n    }\n  ]\n}"
            }
          },
          "metadata": {},
          "execution_count": 20
        }
      ]
    },
    {
      "cell_type": "code",
      "source": [
        "ave_qu = df.groupby(\"Age\").mean()\n",
        "ave_qu.plot(kind=\"bar\",figsize=(20,10))"
      ],
      "metadata": {
        "colab": {
          "base_uri": "https://localhost:8080/",
          "height": 678
        },
        "id": "EcdRU-u4Wjid",
        "outputId": "055fd56e-0102-4369-d45d-66968072093d"
      },
      "execution_count": null,
      "outputs": [
        {
          "output_type": "execute_result",
          "data": {
            "text/plain": [
              "<Axes: xlabel='Age'>"
            ]
          },
          "metadata": {},
          "execution_count": 120
        },
        {
          "output_type": "display_data",
          "data": {
            "text/plain": [
              "<Figure size 2000x1000 with 1 Axes>"
            ],
            "image/png": "[encoded data removed]"
          },
          "metadata": {}
        }
      ]
    },
    {
      "cell_type": "code",
      "source": [
        "import matplotlib.pyplot as plt\n",
        "import seaborn as sns\n",
        "\n",
        "sns.heatmap(df.corr(),annot=True);"
      ],
      "metadata": {
        "colab": {
          "base_uri": "https://localhost:8080/",
          "height": 533
        },
        "id": "126bGDzfXmof",
        "outputId": "867faefb-75fd-4f02-bfcd-12341316ced3"
      },
      "execution_count": null,
      "outputs": [
        {
          "output_type": "display_data",
          "data": {
            "text/plain": [
              "<Figure size 640x480 with 2 Axes>"
            ],
            "image/png": "[encoded data removed]"
          },
          "metadata": {}
        }
      ]
    },
    {
      "cell_type": "code",
      "source": [
        "plt.figure(figsize=(20,7))\n",
        "sns.lineplot(data=df, x=\"Age\",y=\"Sex\",label=\"Sex\")\n",
        "sns.lineplot(data=df, x=\"Age\",y=\"Length\",label=\"Length\")\n",
        "sns.lineplot(data=df, x=\"Age\",y=\"Diameter\",label=\"Diameter\")\n",
        "sns.lineplot(data=df, x=\"Age\",y=\"Height\",label=\"Height\")\n",
        "sns.lineplot(data=df, x=\"Age\",y=\"Weight\",label=\"Weight\")\n",
        "sns.lineplot(data=df, x=\"Age\",y=\"Shucked Weight\",label=\"Shucked Weight\")\n",
        "sns.lineplot(data=df, x=\"Age\",y=\"Viscera Weight\",label=\"Viscera Weight\")\n",
        "sns.lineplot(data=df, x=\"Age\",y=\"Shell Weight\",label=\"Shell Weight\")\n",
        "plt.ylabel(\"Quantity\")\n",
        "plt.title(\"Impact on Age\")\n",
        "plt.legend()\n",
        "plt.show()"
      ],
      "metadata": {
        "colab": {
          "base_uri": "https://localhost:8080/",
          "height": 661
        },
        "id": "XDw0r7fDZlyv",
        "outputId": "7a8241b9-aa96-481f-9bb0-fc8844841ef0"
      },
      "execution_count": null,
      "outputs": [
        {
          "output_type": "display_data",
          "data": {
            "text/plain": [
              "<Figure size 2000x700 with 1 Axes>"
            ],
            "image/png": "[encoded data removed]"
          },
          "metadata": {}
        }
      ]
    },
    {
      "cell_type": "markdown",
      "source": [
        "После визуализации становится ясно, что больше всего на возраст краба влияет вес самого краба и его составных частей соответсвенно."
      ],
      "metadata": {
        "id": "x-4Sp1wrj9Pq"
      }
    },
    {
      "cell_type": "markdown",
      "source": [
        "Выполним нормализацию данных: приведём все признаки к одному масштабу. Это должно позволить модели лучше обучаться."
      ],
      "metadata": {
        "id": "YlZwrnnczz1I"
      }
    },
    {
      "cell_type": "code",
      "source": [
        "from sklearn.preprocessing import StandardScaler\n",
        "\n",
        "x = df.drop('Age', axis=1)\n",
        "y = df['Age']\n",
        "\n",
        "scaler = StandardScaler()\n",
        "x_scaled = scaler.fit_transform(x)\n",
        "x_train, x_test, y_train, y_test = train_test_split(x_scaled, y, test_size=0.2, random_state=420, stratify=y)"
      ],
      "metadata": {
        "id": "eVgRWBtYbBRr"
      },
      "execution_count": null,
      "outputs": []
    },
    {
      "cell_type": "markdown",
      "source": [],
      "metadata": {
        "id": "mAClLRV2kT_x"
      }
    },
    {
      "cell_type": "markdown",
      "source": [
        "### Обучение моделей с улучшенным бейзлайном\n",
        "\n",
        "Осуществим подбор гиперпараметров GridSearchCV для получения лучших результатов\n",
        "\n",
        "#### KNN"
      ],
      "metadata": {
        "id": "wlx5IVhXjx6S"
      }
    },
    {
      "cell_type": "code",
      "source": [
        "from sklearn.model_selection import GridSearchCV\n",
        "from sklearn.metrics import make_scorer\n",
        "\n",
        "knn_param_grid = {\n",
        "    \"n_neighbors\": [3, 5, 7, 9],\n",
        "    \"weights\": [\"uniform\", \"distance\"],\n",
        "    \"metric\": [\"euclidean\", \"manhattan\", \"minkowski\"]\n",
        "}\n",
        "knn_regressor = KNeighborsRegressor()\n",
        "grid_search_knn = GridSearchCV(\n",
        "    estimator=knn_regressor,\n",
        "    param_grid=knn_param_grid,\n",
        "    scoring=make_scorer(mean_squared_error, greater_is_better=False),\n",
        "    cv=5,\n",
        "    verbose=2,\n",
        "    n_jobs=-1\n",
        ")\n",
        "grid_search_knn.fit(x_train, y_train)\n",
        "optimal_knn_model = grid_search_knn.best_estimator_\n",
        "predictions = optimal_knn_model.predict(x_test)\n",
        "\n",
        "print(\"Model: KNeighborsRegressor\\n\")\n",
        "print(f\"Best params: {grid_search_knn.best_params_}\")\n",
        "print_evaluation(y_test, predictions)"
      ],
      "metadata": {
        "colab": {
          "base_uri": "https://localhost:8080/"
        },
        "id": "bK23r3xojRkM",
        "outputId": "80d31dc7-9c71-44d0-e311-fbe472aa4210"
      },
      "execution_count": null,
      "outputs": [
        {
          "output_type": "stream",
          "name": "stdout",
          "text": [
            "Fitting 5 folds for each of 24 candidates, totalling 120 fits\n",
            "Model: KNeighborsRegressor\n",
            "\n",
            "Best params: {'metric': 'euclidean', 'n_neighbors': 9, 'weights': 'distance'}\n",
            "MSE error: 4.918318269817282\n",
            "R^2 score: 0.5011286509436337\n"
          ]
        }
      ]
    },
    {
      "cell_type": "markdown",
      "source": [
        "#### Логистическая регрессия"
      ],
      "metadata": {
        "id": "92IfYaJ80xhZ"
      }
    },
    {
      "cell_type": "code",
      "source": [
        "param_grid_logistic = {\n",
        "    \"penalty\": [\"l1\", \"l2\", \"elasticnet\", None],\n",
        "    \"C\": [0.01, 0.1, 1, 10, 100],\n",
        "    \"solver\": [\"lbfgs\", \"liblinear\", \"saga\"]\n",
        "}\n",
        "logistic_model = LogisticRegression(max_iter=1000)\n",
        "grid_search_logistic = GridSearchCV(\n",
        "    estimator=logistic_model,\n",
        "    param_grid=param_grid_logistic,\n",
        "    scoring=make_scorer(mean_squared_error, greater_is_better=False),\n",
        "    cv=5,\n",
        "    verbose=2,\n",
        "    n_jobs=-1\n",
        ")\n",
        "grid_search_logistic.fit(x_train, y_train)\n",
        "best_logistic_model = grid_search_logistic.best_estimator_\n",
        "predictions = best_logistic_model.predict(x_test)\n",
        "\n",
        "print(\"Model: LogisticRegression\")\n",
        "print(f\"Best params: {grid_search_logistic.best_params_}\")\n",
        "print_evaluation(y_test, predictions)"
      ],
      "metadata": {
        "colab": {
          "base_uri": "https://localhost:8080/"
        },
        "id": "UhETd-7-tzPY",
        "outputId": "e8c44efe-3a35-4294-c171-fa7c99dc350a"
      },
      "execution_count": null,
      "outputs": [
        {
          "output_type": "stream",
          "name": "stdout",
          "text": [
            "Fitting 5 folds for each of 60 candidates, totalling 300 fits\n"
          ]
        },
        {
          "output_type": "stream",
          "name": "stderr",
          "text": [
            "/usr/local/lib/python3.10/dist-packages/sklearn/model_selection/_split.py:805: UserWarning: The least populated class in y has only 2 members, which is less than n_splits=5.\n",
            "  warnings.warn(\n",
            "/usr/local/lib/python3.10/dist-packages/sklearn/model_selection/_validation.py:528: FitFailedWarning: \n",
            "125 fits failed out of a total of 300.\n",
            "The score on these train-test partitions for these parameters will be set to nan.\n",
            "If these failures are not expected, you can try to debug them by setting error_score='raise'.\n",
            "\n",
            "Below are more details about the failures:\n",
            "--------------------------------------------------------------------------------\n",
            "25 fits failed with the following error:\n",
            "Traceback (most recent call last):\n",
            "  File \"/usr/local/lib/python3.10/dist-packages/sklearn/model_selection/_validation.py\", line 866, in _fit_and_score\n",
            "    estimator.fit(X_train, y_train, **fit_params)\n",
            "  File \"/usr/local/lib/python3.10/dist-packages/sklearn/base.py\", line 1389, in wrapper\n",
            "    return fit_method(estimator, *args, **kwargs)\n",
            "  File \"/usr/local/lib/python3.10/dist-packages/sklearn/linear_model/_logistic.py\", line 1193, in fit\n",
            "    solver = _check_solver(self.solver, self.penalty, self.dual)\n",
            "  File \"/usr/local/lib/python3.10/dist-packages/sklearn/linear_model/_logistic.py\", line 63, in _check_solver\n",
            "    raise ValueError(\n",
            "ValueError: Solver lbfgs supports only 'l2' or None penalties, got l1 penalty.\n",
            "\n",
            "--------------------------------------------------------------------------------\n",
            "25 fits failed with the following error:\n",
            "Traceback (most recent call last):\n",
            "  File \"/usr/local/lib/python3.10/dist-packages/sklearn/model_selection/_validation.py\", line 866, in _fit_and_score\n",
            "    estimator.fit(X_train, y_train, **fit_params)\n",
            "  File \"/usr/local/lib/python3.10/dist-packages/sklearn/base.py\", line 1389, in wrapper\n",
            "    return fit_method(estimator, *args, **kwargs)\n",
            "  File \"/usr/local/lib/python3.10/dist-packages/sklearn/linear_model/_logistic.py\", line 1193, in fit\n",
            "    solver = _check_solver(self.solver, self.penalty, self.dual)\n",
            "  File \"/usr/local/lib/python3.10/dist-packages/sklearn/linear_model/_logistic.py\", line 63, in _check_solver\n",
            "    raise ValueError(\n",
            "ValueError: Solver lbfgs supports only 'l2' or None penalties, got elasticnet penalty.\n",
            "\n",
            "--------------------------------------------------------------------------------\n",
            "25 fits failed with the following error:\n",
            "Traceback (most recent call last):\n",
            "  File \"/usr/local/lib/python3.10/dist-packages/sklearn/model_selection/_validation.py\", line 866, in _fit_and_score\n",
            "    estimator.fit(X_train, y_train, **fit_params)\n",
            "  File \"/usr/local/lib/python3.10/dist-packages/sklearn/base.py\", line 1389, in wrapper\n",
            "    return fit_method(estimator, *args, **kwargs)\n",
            "  File \"/usr/local/lib/python3.10/dist-packages/sklearn/linear_model/_logistic.py\", line 1193, in fit\n",
            "    solver = _check_solver(self.solver, self.penalty, self.dual)\n",
            "  File \"/usr/local/lib/python3.10/dist-packages/sklearn/linear_model/_logistic.py\", line 71, in _check_solver\n",
            "    raise ValueError(\n",
            "ValueError: Only 'saga' solver supports elasticnet penalty, got solver=liblinear.\n",
            "\n",
            "--------------------------------------------------------------------------------\n",
            "25 fits failed with the following error:\n",
            "Traceback (most recent call last):\n",
            "  File \"/usr/local/lib/python3.10/dist-packages/sklearn/model_selection/_validation.py\", line 866, in _fit_and_score\n",
            "    estimator.fit(X_train, y_train, **fit_params)\n",
            "  File \"/usr/local/lib/python3.10/dist-packages/sklearn/base.py\", line 1389, in wrapper\n",
            "    return fit_method(estimator, *args, **kwargs)\n",
            "  File \"/usr/local/lib/python3.10/dist-packages/sklearn/linear_model/_logistic.py\", line 1203, in fit\n",
            "    raise ValueError(\"l1_ratio must be specified when penalty is elasticnet.\")\n",
            "ValueError: l1_ratio must be specified when penalty is elasticnet.\n",
            "\n",
            "--------------------------------------------------------------------------------\n",
            "25 fits failed with the following error:\n",
            "Traceback (most recent call last):\n",
            "  File \"/usr/local/lib/python3.10/dist-packages/sklearn/model_selection/_validation.py\", line 866, in _fit_and_score\n",
            "    estimator.fit(X_train, y_train, **fit_params)\n",
            "  File \"/usr/local/lib/python3.10/dist-packages/sklearn/base.py\", line 1389, in wrapper\n",
            "    return fit_method(estimator, *args, **kwargs)\n",
            "  File \"/usr/local/lib/python3.10/dist-packages/sklearn/linear_model/_logistic.py\", line 1193, in fit\n",
            "    solver = _check_solver(self.solver, self.penalty, self.dual)\n",
            "  File \"/usr/local/lib/python3.10/dist-packages/sklearn/linear_model/_logistic.py\", line 76, in _check_solver\n",
            "    raise ValueError(\"penalty=None is not supported for the liblinear solver\")\n",
            "ValueError: penalty=None is not supported for the liblinear solver\n",
            "\n",
            "  warnings.warn(some_fits_failed_message, FitFailedWarning)\n",
            "/usr/local/lib/python3.10/dist-packages/sklearn/model_selection/_search.py:1107: UserWarning: One or more of the test scores are non-finite: [        nan -8.62759474 -9.24903511 -8.01763104 -8.07165396 -8.01602229\n",
            "         nan         nan         nan -5.9307061          nan -5.71692892\n",
            "         nan -7.5961042  -7.39692851 -7.20490444 -7.44942293 -7.20973536\n",
            "         nan         nan         nan -5.9307061          nan -5.71692892\n",
            "         nan -6.79410141 -5.99238444 -6.11625788 -6.86519668 -6.11691235\n",
            "         nan         nan         nan -5.9307061          nan -5.71435658\n",
            "         nan -6.69659454 -5.69990059 -5.8098907  -6.69855746 -5.74912883\n",
            "         nan         nan         nan -5.9307061          nan -5.71692892\n",
            "         nan -6.74607391 -5.71950748 -5.81722302 -6.61488264 -5.71854078\n",
            "         nan         nan         nan -5.9307061          nan -5.71692892]\n",
            "  warnings.warn(\n"
          ]
        },
        {
          "output_type": "stream",
          "name": "stdout",
          "text": [
            "Model: LogisticRegression\n",
            "Best params: {'C': 10, 'penalty': 'l1', 'solver': 'saga'}\n",
            "MSE error: 5.687660668380463\n",
            "R^2 score: 0.42309326177152673\n"
          ]
        },
        {
          "output_type": "stream",
          "name": "stderr",
          "text": [
            "/usr/local/lib/python3.10/dist-packages/sklearn/linear_model/_sag.py:348: ConvergenceWarning: The max_iter was reached which means the coef_ did not converge\n",
            "  warnings.warn(\n"
          ]
        }
      ]
    },
    {
      "cell_type": "markdown",
      "source": [
        "#### Линейная регрессия"
      ],
      "metadata": {
        "id": "HrJG9eS_0sUW"
      }
    },
    {
      "cell_type": "markdown",
      "source": [
        "Импортируем линейную Ridge для того, чтобы подобрать такое оптимальные значения коэффициента альфа, которое минимизируют функцию потерь."
      ],
      "metadata": {
        "id": "k7Sx2b8Lp7Hf"
      }
    },
    {
      "cell_type": "code",
      "source": [
        "from sklearn.linear_model import Ridge\n",
        "\n",
        "param_grid_ridge = {\n",
        "    \"alpha\": [100, 50, 20, 10, 5, 2, 1]\n",
        "}\n",
        "ridge_model = Ridge()\n",
        "grid_ridge = GridSearchCV(\n",
        "    estimator=ridge_model,\n",
        "    param_grid=param_grid_ridge,\n",
        "    scoring=make_scorer(mean_squared_error, greater_is_better=False),\n",
        "    cv=5,\n",
        "    verbose=2,\n",
        "    n_jobs=-1\n",
        ")\n",
        "grid_ridge.fit(x_train, y_train)\n",
        "best_ridge = grid_ridge.best_estimator_\n",
        "y_pred = best_ridge.predict(x_test)\n",
        "\n",
        "print(\"Model: Ridge\")\n",
        "print(f\"Best params: {grid_ridge.best_params_}\")\n",
        "print_evaluation(y_test, y_pred)"
      ],
      "metadata": {
        "colab": {
          "base_uri": "https://localhost:8080/"
        },
        "id": "Mc8Uo78xpp2q",
        "outputId": "88aed5c9-e207-4031-f447-c410a3456f1a"
      },
      "execution_count": null,
      "outputs": [
        {
          "output_type": "stream",
          "name": "stdout",
          "text": [
            "Fitting 5 folds for each of 7 candidates, totalling 35 fits\n",
            "Model: Ridge\n",
            "Best params: {'alpha': 1}\n",
            "MSE error: 4.695785979301134\n",
            "R^2 score: 0.523700387437319\n"
          ]
        }
      ]
    },
    {
      "cell_type": "markdown",
      "source": [
        "#### Решающее дерево"
      ],
      "metadata": {
        "id": "nnAsiznG03FX"
      }
    },
    {
      "cell_type": "code",
      "source": [
        "param_grid_tree = {\n",
        "    \"max_depth\": [None, 5, 10, 20],\n",
        "    \"min_samples_split\": [2, 5, 10],\n",
        "    \"min_samples_leaf\": [1, 2, 4]\n",
        "}\n",
        "decision_tree = DecisionTreeRegressor(random_state=42)\n",
        "grid_tree = GridSearchCV(\n",
        "    estimator=decision_tree,\n",
        "    param_grid=param_grid_tree,\n",
        "    scoring=make_scorer(mean_squared_error, greater_is_better=False),\n",
        "    cv=5,\n",
        "    verbose=2,\n",
        "    n_jobs=-1\n",
        ")\n",
        "grid_tree.fit(x_train, y_train)\n",
        "best_tree = grid_tree.best_estimator_\n",
        "y_pred = best_tree.predict(x_test)\n",
        "\n",
        "print(\"Model: DecisionTreeRegressor\")\n",
        "print(f\"Best params: {grid_tree.best_params_}\")\n",
        "print_evaluation(y_test, y_pred)"
      ],
      "metadata": {
        "colab": {
          "base_uri": "https://localhost:8080/"
        },
        "id": "xjTheI__vA-x",
        "outputId": "00cf2e30-25b6-4093-e4d2-276c854a2bd6"
      },
      "execution_count": null,
      "outputs": [
        {
          "output_type": "stream",
          "name": "stdout",
          "text": [
            "Fitting 5 folds for each of 36 candidates, totalling 180 fits\n",
            "Model: DecisionTreeRegressor\n",
            "Best params: {'max_depth': 5, 'min_samples_leaf': 4, 'min_samples_split': 2}\n",
            "MSE error: 5.513764936365677\n",
            "R^2 score: 0.440731729570111\n"
          ]
        }
      ]
    },
    {
      "cell_type": "markdown",
      "source": [
        "#### Случайный лес"
      ],
      "metadata": {
        "id": "EL8sJLAz06uz"
      }
    },
    {
      "cell_type": "code",
      "source": [
        "param_grid_forest = {\n",
        "    \"n_estimators\": [50, 100, 200],\n",
        "    \"max_depth\": [None, 10, 20],\n",
        "    \"min_samples_split\": [2, 5, 10],\n",
        "    \"min_samples_leaf\": [1, 2, 4]\n",
        "}\n",
        "random_forest = RandomForestRegressor(random_state=42)\n",
        "grid_forest = GridSearchCV(\n",
        "    estimator=random_forest,\n",
        "    param_grid=param_grid_forest,\n",
        "    scoring=make_scorer(mean_squared_error, greater_is_better=False),\n",
        "    cv=5,\n",
        "    verbose=2,\n",
        "    n_jobs=-1\n",
        ")\n",
        "grid_forest.fit(x_train, y_train)\n",
        "best_random_forest = grid_forest.best_estimator_\n",
        "y_pred = best_random_forest.predict(x_test)\n",
        "\n",
        "print(\"Model: RandomForestRegressor\")\n",
        "print(f\"Best params: {grid_forest.best_params_}\")\n",
        "print_evaluation(y_test, y_pred)"
      ],
      "metadata": {
        "colab": {
          "base_uri": "https://localhost:8080/"
        },
        "id": "OvW3frqsvkGa",
        "outputId": "2d5036a9-8468-4fa1-8481-d16133f7df37"
      },
      "execution_count": null,
      "outputs": [
        {
          "output_type": "stream",
          "name": "stdout",
          "text": [
            "Fitting 5 folds for each of 81 candidates, totalling 405 fits\n",
            "Model: RandomForestRegressor\n",
            "Best params: {'max_depth': 10, 'min_samples_leaf': 4, 'min_samples_split': 10, 'n_estimators': 200}\n",
            "MSE error: 4.300036523364672\n",
            "R^2 score: 0.5638417638469998\n"
          ]
        }
      ]
    },
    {
      "cell_type": "markdown",
      "source": [
        "#### Градиентный бустинг"
      ],
      "metadata": {
        "id": "7hcwmy8z1Ebx"
      }
    },
    {
      "cell_type": "code",
      "source": [
        "param_grid_gradient_boosting = {\n",
        "    \"n_estimators\": [50, 100, 200],\n",
        "    \"max_depth\": [None, 10, 20],\n",
        "    \"min_samples_split\": [2, 5, 10],\n",
        "    \"min_samples_leaf\": [1, 2, 4]\n",
        "}\n",
        "gradient_boosting = GradientBoostingRegressor(random_state=42)\n",
        "grid_gradient_boosting = GridSearchCV(\n",
        "    estimator=gradient_boosting,\n",
        "    param_grid=param_grid_gradient_boosting,\n",
        "    scoring=make_scorer(mean_squared_error, greater_is_better=False),\n",
        "    cv=5,\n",
        "    verbose=2,\n",
        "    n_jobs=-1\n",
        ")\n",
        "grid_gradient_boosting.fit(x_train, y_train)\n",
        "best_gradient_boosting = grid_gradient_boosting.best_estimator_\n",
        "y_pred = best_gradient_boosting.predict(x_test)\n",
        "\n",
        "print(\"Model: GradientBoostingRegressor\")\n",
        "print(f\"Best params: {grid_gradient_boosting.best_params_}\")\n",
        "print_evaluation(y_test, y_pred)"
      ],
      "metadata": {
        "colab": {
          "base_uri": "https://localhost:8080/"
        },
        "id": "0d6uw72Sv8fy",
        "outputId": "9faa9e1f-8f06-48f9-c8e1-c81590b9f238"
      },
      "execution_count": null,
      "outputs": [
        {
          "output_type": "stream",
          "name": "stdout",
          "text": [
            "Fitting 5 folds for each of 81 candidates, totalling 405 fits\n",
            "Model: GradientBoostingRegressor\n",
            "Best params: {'max_depth': 10, 'min_samples_leaf': 4, 'min_samples_split': 2, 'n_estimators': 50}\n",
            "MSE error: 4.575860012490717\n",
            "R^2 score: 0.5358646325242526\n"
          ]
        }
      ]
    },
    {
      "cell_type": "markdown",
      "source": [
        "## Имплементация алгоритма машинного обучения\n",
        "### Обучение моделей самостоятельной реализации с исходным бейзлайном\n",
        "#### KNN"
      ],
      "metadata": {
        "id": "b2Rb4M-U1J50"
      }
    },
    {
      "cell_type": "code",
      "source": [
        "import numpy as np\n",
        "import pandas as pd\n",
        "from sklearn.model_selection import train_test_split\n",
        "from sklearn.metrics import accuracy_score\n",
        "\n",
        "class MyKNN:\n",
        "    def __init__(self, num_neighbors=3):\n",
        "        self.num_neighbors = num_neighbors\n",
        "\n",
        "    def fit(self, features, labels):\n",
        "        self.x_train = np.array(features)\n",
        "        self.y_train = np.array(labels)\n",
        "\n",
        "    def predict(self, test_features):\n",
        "        predictions = []\n",
        "        features = np.array(test_features, dtype=float)\n",
        "        for feature in features:\n",
        "            distances = np.linalg.norm(self.x_train - feature, axis=1)\n",
        "            nearest_indices = np.argsort(distances)[:self.num_neighbors]\n",
        "            nearest_labels = self.y_train[nearest_indices]\n",
        "            predictions.append(np.bincount(nearest_labels).argmax())\n",
        "        return np.array(predictions)"
      ],
      "metadata": {
        "id": "4ll65haAwwbU"
      },
      "execution_count": null,
      "outputs": []
    },
    {
      "cell_type": "code",
      "source": [
        "modelMyKNN = MyKNN(num_neighbors=3)\n",
        "modelMyKNN.fit(raw_x_train, raw_y_train)\n",
        "my_raw_y_pred = modelMyKNN.predict(raw_x_test)\n",
        "print_evaluation(raw_y_test, my_raw_y_pred)"
      ],
      "metadata": {
        "colab": {
          "base_uri": "https://localhost:8080/"
        },
        "id": "gLmNyXjYzuiH",
        "outputId": "284b225d-5152-4c3b-b750-11b871ffbd23"
      },
      "execution_count": null,
      "outputs": [
        {
          "output_type": "stream",
          "name": "stdout",
          "text": [
            "MSE error: 6.839537869062901\n",
            "R^2 score: 0.2882494708830482\n"
          ]
        }
      ]
    },
    {
      "cell_type": "markdown",
      "source": [
        "#### Логистическая регрессия"
      ],
      "metadata": {
        "id": "ZHlxKj491wB_"
      }
    },
    {
      "cell_type": "code",
      "source": [
        "class MyLogisticRegression:\n",
        "    def __init__(self, learning_rate=0.01, num_iterations=100000):\n",
        "        self.learning_rate = learning_rate\n",
        "        self.num_iterations = num_iterations\n",
        "        self.weights = None\n",
        "        self.bias = None\n",
        "\n",
        "    def sigmoid(self, z):\n",
        "        return 1 / (1 + np.exp(-z))\n",
        "\n",
        "    def fit(self, features, labels):\n",
        "        n_samples, n_features = features.shape\n",
        "        self.weights = np.zeros(n_features)\n",
        "        self.bias = 0\n",
        "\n",
        "        for _ in range(self.num_iterations):\n",
        "            linear_model = np.dot(features, self.weights) + self.bias\n",
        "            y_predicted = self.sigmoid(linear_model)\n",
        "            dw = (1 / n_samples) * np.dot(features.T, (y_predicted - labels))\n",
        "            db = (1 / n_samples) * np.sum(y_predicted - labels)\n",
        "            self.weights -= self.learning_rate * dw\n",
        "            self.bias -= self.learning_rate * db\n",
        "\n",
        "    def predict(self, test_features):\n",
        "        linear_model = np.dot(test_features, self.weights) + self.bias\n",
        "        y_predicted = self.sigmoid(linear_model)\n",
        "        return y_predicted"
      ],
      "metadata": {
        "id": "YJKCgctBEUWf"
      },
      "execution_count": null,
      "outputs": []
    },
    {
      "cell_type": "code",
      "source": [
        "modelMyLogisticRegression = MyLogisticRegression()\n",
        "modelMyLogisticRegression.fit(raw_x_train, raw_y_train)\n",
        "my_raw_y_pred2 = modelMyLogisticRegression.predict(raw_x_test)\n",
        "print_evaluation(raw_y_test, my_raw_y_pred2)"
      ],
      "metadata": {
        "colab": {
          "base_uri": "https://localhost:8080/"
        },
        "id": "a7fawtGqEv3z",
        "outputId": "51749e5c-4405-44f8-dbc9-264fc651452e"
      },
      "execution_count": null,
      "outputs": [
        {
          "output_type": "stream",
          "name": "stdout",
          "text": [
            "MSE error: 86.77406931964056\n",
            "R^2 score: -8.030067664549284\n"
          ]
        }
      ]
    },
    {
      "cell_type": "markdown",
      "source": [
        "#### Линейная регрессия"
      ],
      "metadata": {
        "id": "-DlC7eR-10Xb"
      }
    },
    {
      "cell_type": "code",
      "source": [
        "class MyLinearRegression:\n",
        "    def __init__(self):\n",
        "        self.weights = None\n",
        "\n",
        "    def fit(self, X, y):\n",
        "        X = np.hstack([np.ones((X.shape[0], 1)), X])\n",
        "        self.weights = np.linalg.pinv(X.T @ X) @ X.T @ y\n",
        "\n",
        "    def predict(self, X):\n",
        "        X = np.hstack([np.ones((X.shape[0], 1)), X])\n",
        "        return X @ self.weights"
      ],
      "metadata": {
        "id": "FcqWPnWCBAaf"
      },
      "execution_count": null,
      "outputs": []
    },
    {
      "cell_type": "code",
      "source": [
        "modelMyLinearRegression = MyLinearRegression()\n",
        "modelMyLinearRegression.fit(raw_x_train, raw_y_train)\n",
        "my_raw_y_pred3 = modelMyLinearRegression.predict(raw_x_test)\n",
        "my_raw_y_pred3\n",
        "print_evaluation(raw_y_test, my_raw_y_pred3)"
      ],
      "metadata": {
        "colab": {
          "base_uri": "https://localhost:8080/"
        },
        "id": "9HxgeuvkCWsu",
        "outputId": "1672e8b6-4856-4e5a-8659-071fddc9a794"
      },
      "execution_count": null,
      "outputs": [
        {
          "output_type": "stream",
          "name": "stdout",
          "text": [
            "MSE error: 4.6487102665280515\n",
            "R^2 score: 0.5162360300863308\n"
          ]
        }
      ]
    },
    {
      "cell_type": "markdown",
      "source": [
        "#### Решающее дерево"
      ],
      "metadata": {
        "id": "tb46qsKD14Y9"
      }
    },
    {
      "cell_type": "code",
      "source": [
        "class MyDecisionTree:\n",
        "    def __init__(self, max_depth=5, min_samples_split=2):\n",
        "        self.max_depth = max_depth\n",
        "        self.min_samples_split = min_samples_split\n",
        "        self.tree = None\n",
        "\n",
        "    def fit(self, X, y):\n",
        "        def build_tree(X, y, depth):\n",
        "            if len(y) < self.min_samples_split or depth == self.max_depth:\n",
        "                return np.mean(y)\n",
        "\n",
        "            best_split = None\n",
        "            best_mse = float(\"inf\")\n",
        "            for feature in range(X.shape[1]):\n",
        "                for threshold in np.unique(X[:, feature]):\n",
        "                    left = y[X[:, feature] <= threshold]\n",
        "                    right = y[X[:, feature] > threshold]\n",
        "\n",
        "                    mse = (\n",
        "                        len(left) * np.var(left) +\n",
        "                        len(right) * np.var(right)\n",
        "                    ) / len(y)\n",
        "\n",
        "                    if mse < best_mse:\n",
        "                        best_mse = mse\n",
        "                        best_split = (feature, threshold)\n",
        "\n",
        "            if best_split is None:\n",
        "                return np.mean(y)\n",
        "\n",
        "            feature, threshold = best_split\n",
        "            left_indices = X[:, feature] <= threshold\n",
        "            right_indices = X[:, feature] > threshold\n",
        "\n",
        "            return {\n",
        "                \"feature\": feature,\n",
        "                \"threshold\": threshold,\n",
        "                \"left\": build_tree(X[left_indices], y[left_indices], depth + 1),\n",
        "                \"right\": build_tree(X[right_indices], y[right_indices], depth + 1),\n",
        "            }\n",
        "\n",
        "        self.tree = build_tree(X, y, 0)\n",
        "\n",
        "    def predict(self, X):\n",
        "        def traverse(x, node):\n",
        "            if not isinstance(node, dict):\n",
        "                return node\n",
        "\n",
        "            if x[node[\"feature\"]] <= node[\"threshold\"]:\n",
        "                return traverse(x, node[\"left\"])\n",
        "            else:\n",
        "                return traverse(x, node[\"right\"])\n",
        "\n",
        "        return np.array([traverse(x, self.tree) for x in X])"
      ],
      "metadata": {
        "id": "V_oqB4w3EESU"
      },
      "execution_count": null,
      "outputs": []
    },
    {
      "cell_type": "code",
      "source": [
        "modelMyDecisionTree = MyDecisionTree()\n",
        "modelMyDecisionTree.fit(scaler.fit_transform(raw_x_train), raw_y_train)\n",
        "my_raw_y_pred4 = modelMyDecisionTree.predict(scaler.fit_transform(raw_x_test))\n",
        "print_evaluation(raw_y_test, my_raw_y_pred4)"
      ],
      "metadata": {
        "colab": {
          "base_uri": "https://localhost:8080/"
        },
        "id": "U82Tal3zGmBs",
        "outputId": "1cb30fbf-1b2b-448e-cb1d-154a3756810e"
      },
      "execution_count": null,
      "outputs": [
        {
          "output_type": "stream",
          "name": "stdout",
          "text": [
            "MSE error: 5.600070306568227\n",
            "R^2 score: 0.4172335792128341\n"
          ]
        }
      ]
    },
    {
      "cell_type": "markdown",
      "source": [
        "#### Случайный лес"
      ],
      "metadata": {
        "id": "XRRpaWx82A17"
      }
    },
    {
      "cell_type": "code",
      "source": [
        "class MyRandomForest:\n",
        "    def __init__(self, n_trees=10, max_depth=5, sample_size=0.8):\n",
        "        self.n_trees = n_trees\n",
        "        self.max_depth = max_depth\n",
        "        self.sample_size = sample_size\n",
        "        self.trees = []\n",
        "\n",
        "    def _bootstrap_sample(self, X, y):\n",
        "        n_samples = int(len(X) * self.sample_size)\n",
        "        idxs = np.random.choice(len(X), size=n_samples, replace=True)\n",
        "        return X[idxs], y[idxs]\n",
        "\n",
        "    def fit(self, X, y):\n",
        "        self.trees = []\n",
        "        for _ in range(self.n_trees):\n",
        "            tree = MyDecisionTree(max_depth=self.max_depth)\n",
        "            X_sample, y_sample = self._bootstrap_sample(X, y)\n",
        "            tree.fit(X_sample, y_sample)\n",
        "            self.trees.append(tree)\n",
        "\n",
        "    def predict(self, X):\n",
        "        tree_predictions = np.array([tree.predict(X) for tree in self.trees])\n",
        "        return np.mean(tree_predictions, axis=0)\n"
      ],
      "metadata": {
        "id": "jKSGJuHDMM3B"
      },
      "execution_count": null,
      "outputs": []
    },
    {
      "cell_type": "code",
      "source": [
        "modelMyRandomForest = MyRandomForest()\n",
        "modelMyRandomForest.fit(raw_x_train.values, raw_y_train.values)\n",
        "my_raw_y_pred5 = modelMyRandomForest.predict(raw_x_test.values)\n",
        "print_evaluation(raw_y_test, my_raw_y_pred5)"
      ],
      "metadata": {
        "colab": {
          "base_uri": "https://localhost:8080/"
        },
        "id": "I1lVV9u6GmGT",
        "outputId": "27a7e361-a670-4d9a-f866-cb8c1c14ce3c"
      },
      "execution_count": null,
      "outputs": [
        {
          "output_type": "stream",
          "name": "stderr",
          "text": [
            "/usr/local/lib/python3.10/dist-packages/numpy/core/fromnumeric.py:3787: RuntimeWarning: Degrees of freedom <= 0 for slice\n",
            "  return _methods._var(a, axis=axis, dtype=dtype, out=out, ddof=ddof,\n",
            "/usr/local/lib/python3.10/dist-packages/numpy/core/_methods.py:163: RuntimeWarning: invalid value encountered in divide\n",
            "  arrmean = um.true_divide(arrmean, div, out=arrmean,\n",
            "/usr/local/lib/python3.10/dist-packages/numpy/core/_methods.py:198: RuntimeWarning: invalid value encountered in scalar divide\n",
            "  ret = ret.dtype.type(ret / rcount)\n"
          ]
        },
        {
          "output_type": "stream",
          "name": "stdout",
          "text": [
            "MSE error: 4.709267491845436\n",
            "R^2 score: 0.5099341953737162\n"
          ]
        }
      ]
    },
    {
      "cell_type": "markdown",
      "source": [
        "#### Градиентный бустинг"
      ],
      "metadata": {
        "id": "3jnpQmIH2D3x"
      }
    },
    {
      "cell_type": "code",
      "source": [
        "class MyGradientBoosting:\n",
        "    def __init__(self, n_estimators=100, learning_rate=0.1, max_depth=3):\n",
        "        self.n_estimators = n_estimators\n",
        "        self.learning_rate = learning_rate\n",
        "        self.max_depth = max_depth\n",
        "        self.models = []\n",
        "        self.initial_prediction = None\n",
        "\n",
        "    def fit(self, X, y):\n",
        "        self.initial_prediction = np.mean(y)\n",
        "        y_pred = np.full(y.shape, self.initial_prediction)\n",
        "\n",
        "        for _ in range(self.n_estimators):\n",
        "            residuals = y - y_pred\n",
        "\n",
        "            model = MyDecisionTree(max_depth=self.max_depth)\n",
        "            model.fit(X, residuals)\n",
        "            self.models.append(model)\n",
        "\n",
        "            y_pred += self.learning_rate * model.predict(X)\n",
        "\n",
        "    def predict(self, X):\n",
        "        y_pred = np.full(X.shape[0], self.initial_prediction)\n",
        "\n",
        "        for model in self.models:\n",
        "            y_pred += self.learning_rate * model.predict(X)\n",
        "\n",
        "        return y_pred"
      ],
      "metadata": {
        "id": "ndjsU1G8NB33"
      },
      "execution_count": null,
      "outputs": []
    },
    {
      "cell_type": "code",
      "source": [
        "modelMyGradientBoosting = MyGradientBoosting()\n",
        "modelMyGradientBoosting.fit(raw_x_train.values, raw_y_train.values)\n",
        "my_raw_y_pred6 = modelMyGradientBoosting.predict(raw_x_test.values)\n",
        "print_evaluation(raw_y_test, my_raw_y_pred6)"
      ],
      "metadata": {
        "colab": {
          "base_uri": "https://localhost:8080/"
        },
        "id": "uWUvFjegNB7u",
        "outputId": "b1e8396c-102e-4604-cf27-0214fa247beb"
      },
      "execution_count": null,
      "outputs": [
        {
          "output_type": "stream",
          "name": "stderr",
          "text": [
            "/usr/local/lib/python3.10/dist-packages/numpy/core/fromnumeric.py:3787: RuntimeWarning: Degrees of freedom <= 0 for slice\n",
            "  return _methods._var(a, axis=axis, dtype=dtype, out=out, ddof=ddof,\n",
            "/usr/local/lib/python3.10/dist-packages/numpy/core/_methods.py:163: RuntimeWarning: invalid value encountered in divide\n",
            "  arrmean = um.true_divide(arrmean, div, out=arrmean,\n",
            "/usr/local/lib/python3.10/dist-packages/numpy/core/_methods.py:198: RuntimeWarning: invalid value encountered in scalar divide\n",
            "  ret = ret.dtype.type(ret / rcount)\n"
          ]
        },
        {
          "output_type": "stream",
          "name": "stdout",
          "text": [
            "MSE error: 4.4084860560015775\n",
            "R^2 score: 0.5412347525471433\n"
          ]
        }
      ]
    },
    {
      "cell_type": "markdown",
      "source": [
        "### Обучение моделей самостоятельной реализации с улучшенным бейзлайном\n",
        "\n",
        "Воспользуемся гиперпараметрами, найденными в результате алгоритма GridSearchCV"
      ],
      "metadata": {
        "id": "f2zzeqI92IZs"
      }
    },
    {
      "cell_type": "markdown",
      "source": [
        "#### KNN"
      ],
      "metadata": {
        "id": "iUT0FMVHT_nt"
      }
    },
    {
      "cell_type": "code",
      "source": [
        "MyKNN = MyKNN(num_neighbors=9)\n",
        "MyKNN.fit(x_train, y_train)\n",
        "my_y_pred = MyKNN.predict(x_test)\n",
        "print_evaluation(y_test, my_y_pred)"
      ],
      "metadata": {
        "colab": {
          "base_uri": "https://localhost:8080/"
        },
        "id": "s1NyWcxR_zdZ",
        "outputId": "ff40b106-5cd4-4631-d0fd-b39f48f5ca9f"
      },
      "execution_count": null,
      "outputs": [
        {
          "output_type": "stream",
          "name": "stdout",
          "text": [
            "MSE error: 7.057840616966581\n",
            "R^2 score: 0.2841141469802154\n"
          ]
        }
      ]
    },
    {
      "cell_type": "markdown",
      "source": [
        "#### Логистическая регрессия"
      ],
      "metadata": {
        "id": "lNUN4Iw_2hdH"
      }
    },
    {
      "cell_type": "code",
      "source": [
        "MyLogisticRegression = MyLogisticRegression()\n",
        "MyLogisticRegression.fit(x_train, y_train)\n",
        "my_y_pred2 = MyLogisticRegression.predict(x_test)\n",
        "print_evaluation(y_test, my_y_pred2)"
      ],
      "metadata": {
        "colab": {
          "base_uri": "https://localhost:8080/"
        },
        "id": "FZv7i7HTFJZD",
        "outputId": "7a67d2dd-77f8-40ad-c66b-9251a5111b74"
      },
      "execution_count": null,
      "outputs": [
        {
          "output_type": "stream",
          "name": "stderr",
          "text": [
            "<ipython-input-24-f2552ffd0f48>:9: RuntimeWarning: overflow encountered in exp\n",
            "  return 1 / (1 + np.exp(-z))\n"
          ]
        },
        {
          "output_type": "stream",
          "name": "stdout",
          "text": [
            "MSE error: 92.40359730604821\n",
            "R^2 score: -8.37261574319428\n"
          ]
        }
      ]
    },
    {
      "cell_type": "markdown",
      "source": [
        "#### Линейная регрессия"
      ],
      "metadata": {
        "id": "lcm9Gjpt2lW_"
      }
    },
    {
      "cell_type": "code",
      "source": [
        "MyLinearRegression = MyLinearRegression()\n",
        "MyLinearRegression.fit(x_train, y_train)\n",
        "my_y_pred3 = MyLinearRegression.predict(x_test)\n",
        "print_evaluation(y_test, my_y_pred3)"
      ],
      "metadata": {
        "colab": {
          "base_uri": "https://localhost:8080/"
        },
        "id": "0azFiQh6DfnS",
        "outputId": "ef87431c-7ddc-4b60-c070-c92d784cb587"
      },
      "execution_count": null,
      "outputs": [
        {
          "output_type": "stream",
          "name": "stdout",
          "text": [
            "MSE error: 4.7056255224074475\n",
            "R^2 score: 0.5227023499224089\n"
          ]
        }
      ]
    },
    {
      "cell_type": "markdown",
      "source": [
        "#### Решающее дерево"
      ],
      "metadata": {
        "id": "cPoKAC9W2pXk"
      }
    },
    {
      "cell_type": "code",
      "source": [
        "MyDecisionTree = MyDecisionTree(max_depth=10, min_samples_split=4)\n",
        "MyDecisionTree.fit(x_train, y_train)\n",
        "my_y_pred4 = MyDecisionTree.predict(x_test)\n",
        "print_evaluation(y_test, my_y_pred4)"
      ],
      "metadata": {
        "colab": {
          "base_uri": "https://localhost:8080/"
        },
        "id": "JPia5lS2FIS9",
        "outputId": "7d61f64b-a23e-4d23-eccf-456097ed475c"
      },
      "execution_count": null,
      "outputs": [
        {
          "output_type": "stream",
          "name": "stdout",
          "text": [
            "MSE error: 6.935165301377481\n",
            "R^2 score: 0.2965572620505469\n"
          ]
        }
      ]
    },
    {
      "cell_type": "markdown",
      "source": [
        "#### Случайный лес"
      ],
      "metadata": {
        "id": "65LAcAb-2r9Q"
      }
    },
    {
      "cell_type": "code",
      "source": [
        "MyRandomForest = MyRandomForest(n_trees=10, max_depth=10, sample_size=0.8)\n",
        "MyRandomForest.fit(x_train, y_train.values)\n",
        "my_y_pred5 = MyRandomForest.predict(x_test)\n",
        "print_evaluation(y_test, my_y_pred5)"
      ],
      "metadata": {
        "colab": {
          "base_uri": "https://localhost:8080/"
        },
        "id": "uudcuaGDMJhY",
        "outputId": "7032d25a-1e60-4bc8-a6e6-aab0d30927a4"
      },
      "execution_count": null,
      "outputs": [
        {
          "output_type": "stream",
          "name": "stderr",
          "text": [
            "/usr/local/lib/python3.10/dist-packages/numpy/core/fromnumeric.py:3787: RuntimeWarning: Degrees of freedom <= 0 for slice\n",
            "  return _methods._var(a, axis=axis, dtype=dtype, out=out, ddof=ddof,\n",
            "/usr/local/lib/python3.10/dist-packages/numpy/core/_methods.py:163: RuntimeWarning: invalid value encountered in divide\n",
            "  arrmean = um.true_divide(arrmean, div, out=arrmean,\n",
            "/usr/local/lib/python3.10/dist-packages/numpy/core/_methods.py:198: RuntimeWarning: invalid value encountered in scalar divide\n",
            "  ret = ret.dtype.type(ret / rcount)\n"
          ]
        },
        {
          "output_type": "stream",
          "name": "stdout",
          "text": [
            "MSE error: 4.885521014442294\n",
            "R^2 score: 0.5044553187468691\n"
          ]
        }
      ]
    },
    {
      "cell_type": "markdown",
      "source": [
        "####  Градиентный бустинг"
      ],
      "metadata": {
        "id": "8nrB_we42vuN"
      }
    },
    {
      "cell_type": "code",
      "source": [
        "MyGradientBoosting = MyGradientBoosting(max_depth=10, n_estimators=50)\n",
        "MyGradientBoosting.fit(x_train, y_train)\n",
        "my_y_pred6 = MyGradientBoosting.predict(x_test)\n",
        "print_evaluation(y_test, my_y_pred6)"
      ],
      "metadata": {
        "colab": {
          "base_uri": "https://localhost:8080/"
        },
        "id": "bMFClPdNMKEE",
        "outputId": "1d00ab30-7452-422e-a8dd-fb8d45d4dfbb"
      },
      "execution_count": null,
      "outputs": [
        {
          "output_type": "stream",
          "name": "stdout",
          "text": [
            "MSE error: 4.557284284157547\n",
            "R^2 score: 0.5377487925449944\n"
          ]
        }
      ]
    },
    {
      "cell_type": "markdown",
      "source": [
        "## Выводы\n",
        "\n",
        "В результате выполнения данного задания мне удалось улучшить бейзлайн почти для всех стандартных моделей из из библиотеки scikit-learn. Самостоятельная имплементация работает чуть хуже почти во всех случаях, возможно необходимо было ещё оптимизировать код моделей или выбрать другие метрики для сравнения, в которых ошибки не так критичны."
      ],
      "metadata": {
        "id": "tOpLIoO322jG"
      }
    }
  ]
}